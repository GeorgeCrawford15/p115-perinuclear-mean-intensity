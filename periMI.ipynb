{
 "cells": [
  {
   "cell_type": "markdown",
   "id": "cacc5768-9da6-428c-8320-04abb6c7d3f3",
   "metadata": {},
   "source": [
    "# Napari Visualization Pipeline\n",
    "\n",
    "Note: This pipeline assumes that all microscopy images are already grayscale."
   ]
  },
  {
   "cell_type": "code",
   "execution_count": 65,
   "id": "5b57a693-1430-4abd-90b6-0c1be43622f7",
   "metadata": {},
   "outputs": [],
   "source": [
    "import napari\n",
    "import numpy as np\n",
    "from skimage import morphology, restoration, filters, measure\n",
    "from tifffile import imread\n",
    "\n",
    "#img = imread('cell-data/parent_control_z3_ch00.tif') --> This was an initial testing image\n",
    "\n",
    "# Current testing images\n",
    "nuclei_img = imread('cell-data/test-image-set/22KO_mCHC17_GFP_3_z3_ch00.tif')\n",
    "transfection_img = imread('cell-data/test-image-set/22KO_mCHC17_GFP_3_z3_ch01.tif')\n",
    "p115_img = imread('cell-data/test-image-set/22KO_mCHC17_GFP_3_z3_ch02.tif')\n",
    "\n",
    "viewer = napari.Viewer()\n",
    "viewer.add_image(nuclei_img, name='nuclei')\n",
    "viewer.theme = 'light'"
   ]
  },
  {
   "cell_type": "markdown",
   "id": "043c4d73-9c47-4603-8d23-a4534e9e9e1f",
   "metadata": {},
   "source": [
    "### Erosion"
   ]
  },
  {
   "cell_type": "code",
   "execution_count": 66,
   "id": "a6cdca46-902b-41ff-be77-d5fca1429e7e",
   "metadata": {},
   "outputs": [
    {
     "data": {
      "text/plain": [
       "<Image layer 'eroded' at 0x3141c0980>"
      ]
     },
     "execution_count": 66,
     "metadata": {},
     "output_type": "execute_result"
    }
   ],
   "source": [
    "from skimage.morphology import erosion, disk\n",
    "\n",
    "eroded = erosion(nuclei_img, disk(1)) # Change to 2 or 3 for more intense erosion\n",
    "\n",
    "viewer.add_image(eroded, name='eroded')"
   ]
  },
  {
   "cell_type": "markdown",
   "id": "95eb1c1a-a3c5-4c02-8913-fc02f8a9b1ee",
   "metadata": {},
   "source": [
    "### Estimate noise and denoise via non-local means"
   ]
  },
  {
   "cell_type": "code",
   "execution_count": 67,
   "id": "dded80b3-8050-4dd0-869e-7026b1dcb7d6",
   "metadata": {},
   "outputs": [
    {
     "data": {
      "text/plain": [
       "<Image layer 'denoised' at 0x36c0d33b0>"
      ]
     },
     "execution_count": 67,
     "metadata": {},
     "output_type": "execute_result"
    }
   ],
   "source": [
    "from skimage.restoration import denoise_nl_means, estimate_sigma\n",
    "from skimage.util import img_as_float\n",
    "\n",
    "img_float = img_as_float(eroded)\n",
    "\n",
    "sigma_est = np.mean(estimate_sigma(img_float, channel_axis=None)) # Estimated noise standard deviation. Lower SD means lower estimated noise.\n",
    "\n",
    "denoised = denoise_nl_means(\n",
    "    img_float,\n",
    "    h=0.8 * sigma_est, # h is filter strength. This line sets filter strength to 80% of estimated noise level, but tweak this number if necessary.\n",
    "    patch_size=11, # Larger value = captures more context; better denoising but loses fine detail (probably doesn't matter for this use).\n",
    "    patch_distance=12, # Larger value = searches wider area, so better denoising but slower processing.\n",
    "    fast_mode=True # Make False for more accurate denoising (but it'll be a bit slower).\n",
    ")\n",
    "\n",
    "viewer.add_image(denoised, name='denoised')"
   ]
  },
  {
   "cell_type": "markdown",
   "id": "081b3483-cfe4-415b-a39b-045debe10eb6",
   "metadata": {},
   "source": [
    "### Create nucleus mask"
   ]
  },
  {
   "cell_type": "code",
   "execution_count": 68,
   "id": "1b9d73dc-aa1d-43ae-ab59-475f9864e6cb",
   "metadata": {},
   "outputs": [
    {
     "data": {
      "text/plain": [
       "<Labels layer 'thresholded' at 0x32b206fc0>"
      ]
     },
     "execution_count": 68,
     "metadata": {},
     "output_type": "execute_result"
    }
   ],
   "source": [
    "threshold = 0.05 # Play around with the threshold to find the optimal value.\n",
    "thresholded = denoised > threshold # For each pixel --> if it's brighter than the threshold value, count it as foreground (part of a nucleus).\n",
    "# The line above creates a boolean array.\n",
    "\n",
    "viewer.add_labels(thresholded.astype(int), name='thresholded') # This turns the boolean array into binaries."
   ]
  },
  {
   "cell_type": "markdown",
   "id": "8b688059-3e2b-42bf-83ab-326bf07d8f72",
   "metadata": {},
   "source": [
    "### Fill any gaps in the mask regions"
   ]
  },
  {
   "cell_type": "code",
   "execution_count": 69,
   "id": "8cfa7f16-23f8-4f0a-8717-220d15e2f9be",
   "metadata": {},
   "outputs": [
    {
     "data": {
      "text/plain": [
       "<Labels layer 'hole-filled-mask' at 0x314aada60>"
      ]
     },
     "execution_count": 69,
     "metadata": {},
     "output_type": "execute_result"
    }
   ],
   "source": [
    "from scipy.ndimage import binary_fill_holes\n",
    "import numpy as np\n",
    "\n",
    "# Assuming 'mask' is a binary numpy array where nuclei are True (1) and background is False (0)\n",
    "filled_mask = binary_fill_holes(thresholded)\n",
    "\n",
    "# Convert back to int if needed\n",
    "filled_mask = filled_mask.astype(np.uint8)\n",
    "\n",
    "viewer.add_labels(filled_mask, name='hole-filled-mask')"
   ]
  },
  {
   "cell_type": "markdown",
   "id": "cd4668df-d460-4357-b326-841172c355a4",
   "metadata": {},
   "source": [
    "### Separate mask into distinct regions with integer labels"
   ]
  },
  {
   "cell_type": "code",
   "execution_count": 70,
   "id": "f5bc475f-06ed-4a88-ac62-b21337a97b30",
   "metadata": {},
   "outputs": [
    {
     "data": {
      "text/plain": [
       "<Labels layer 'nuclei_mask' at 0x322ab9550>"
      ]
     },
     "execution_count": 70,
     "metadata": {},
     "output_type": "execute_result"
    }
   ],
   "source": [
    "from skimage.measure import label\n",
    "\n",
    "labeled_mask = label(filled_mask) # Label connected regions of the mask\n",
    "\n",
    "viewer.add_labels(labeled_mask, name='nuclei_mask')"
   ]
  },
  {
   "cell_type": "markdown",
   "id": "4c5cbce2-725d-4a75-bfae-3dad0563eccf",
   "metadata": {},
   "source": [
    "### Clean mask by removing nucleus regions that are cut off by the image and by removing isolated pixels that remain after erosion and denoising"
   ]
  },
  {
   "cell_type": "code",
   "execution_count": 71,
   "id": "95aa8466-5a94-4cd2-b891-d1f603fe90ab",
   "metadata": {},
   "outputs": [
    {
     "data": {
      "text/plain": [
       "<Labels layer 'cleaned_mask' at 0x327648c20>"
      ]
     },
     "execution_count": 71,
     "metadata": {},
     "output_type": "execute_result"
    }
   ],
   "source": [
    "from skimage.measure import regionprops\n",
    "import numpy as np\n",
    "\n",
    "image_height, image_width = labeled_mask.shape\n",
    "cleaned_mask = np.zeros_like(labeled_mask)\n",
    "\n",
    "for region in regionprops(labeled_mask):\n",
    "    min_row, min_column, max_row, max_column = region.bbox\n",
    "\n",
    "    # This checks for labeled regions at the edges of the image\n",
    "    touches_edge = (min_row == 0 or min_column == 0 or max_row == image_height or max_column == image_width)\n",
    "    \n",
    "    if not touches_edge and region.area >= 500:\n",
    "        cleaned_mask[labeled_mask == region.label] = region.label \n",
    "        # This line sets all pixels in cleaned_mask at positions where the boolean mask is True to the integer value region.label.\n",
    "        # Each specific integer value is a specific label/color.\n",
    "        \n",
    "viewer.add_labels(cleaned_mask, name='cleaned_mask')"
   ]
  },
  {
   "cell_type": "markdown",
   "id": "da032175-3e20-4727-99de-9f1ad03b693c",
   "metadata": {},
   "source": [
    "### Determine the image's microns per pixel ratio and create the first donut mask --> PERSONAL NOTE: Confirm the output with Fiji since this is a new image"
   ]
  },
  {
   "cell_type": "code",
   "execution_count": 72,
   "id": "d6185e55-d7ff-4c00-b634-aa245232c1e8",
   "metadata": {},
   "outputs": [
    {
     "name": "stdout",
     "output_type": "stream",
     "text": [
      "Compare these values to the metadata in Fiji ImageJ:\n",
      "X pixels/µm: 5.5440\n",
      "Y pixels/µm: 5.5440\n"
     ]
    },
    {
     "data": {
      "text/plain": [
       "<Labels layer 'donut' at 0x3239f7d70>"
      ]
     },
     "execution_count": 72,
     "metadata": {},
     "output_type": "execute_result"
    }
   ],
   "source": [
    "from skimage.morphology import dilation, disk\n",
    "from skimage.segmentation import find_boundaries\n",
    "import tifffile\n",
    "\n",
    "with tifffile.TiffFile('cell-data/test-image-set/22KO_mCHC17_GFP_3_z3_ch00.tif') as tif:\n",
    "    page = tif.pages[0]\n",
    "    tags = page.tags\n",
    "\n",
    "    x_res = tags['XResolution'].value  # (num, denom)\n",
    "    y_res = tags['YResolution'].value\n",
    "    res_unit = tags['ResolutionUnit'].value  # 3 = centimeters\n",
    "\n",
    "    # Convert to pixels per micrometer\n",
    "    if res_unit == 3:  # Centimeters\n",
    "        x_ppcm = x_res[0] / x_res[1]\n",
    "        y_ppcm = y_res[0] / y_res[1]\n",
    "        x_ppum = x_ppcm / 10000  # cm → µm\n",
    "        y_ppum = y_ppcm / 10000\n",
    "        print('Compare these values to the metadata in Fiji ImageJ:')\n",
    "        print(f'X pixels/µm: {x_ppum:.4f}')\n",
    "        print(f'Y pixels/µm: {y_ppum:.4f}')\n",
    "    else:\n",
    "        print('Unsupported resolution unit:', res_unit)\n",
    "\n",
    "microns_per_pixel = (1 / x_ppum + 1 / y_ppum) / 2\n",
    "desired_donut_width_um = 4.5\n",
    "n_pixels = int(desired_donut_width_um / microns_per_pixel)\n",
    "\n",
    "outer_mask = dilation(cleaned_mask, disk(n_pixels))\n",
    "\n",
    "donut_mask = outer_mask - cleaned_mask\n",
    "donut_mask[donut_mask < 0] = 0  # Just in case\n",
    "\n",
    "donut_mask = donut_mask.astype(np.uint8)\n",
    "\n",
    "viewer.add_labels(donut_mask, name='donut')"
   ]
  },
  {
   "cell_type": "markdown",
   "id": "26ab5209-1ab1-434a-a56e-5ef0bc8652fe",
   "metadata": {},
   "source": [
    "### Create the outer donut mask"
   ]
  },
  {
   "cell_type": "code",
   "execution_count": 73,
   "id": "5d41cf05-7c18-407d-85aa-a45903819d14",
   "metadata": {},
   "outputs": [
    {
     "data": {
      "text/plain": [
       "<Labels layer 'outer_donut' at 0x323e09d90>"
      ]
     },
     "execution_count": 73,
     "metadata": {},
     "output_type": "execute_result"
    }
   ],
   "source": [
    "desired_outer_width_um = 1.5\n",
    "n_pixels = int(desired_outer_width_um / microns_per_pixel)\n",
    "\n",
    "outer_donut_mask = np.zeros_like(cleaned_mask, dtype=np.uint16)\n",
    "\n",
    "regions = regionprops(cleaned_mask)\n",
    "\n",
    "for region in regions:\n",
    "    nucleus_mask = (cleaned_mask == region.label)\n",
    "    first_donut_mask = (donut_mask == region.label)\n",
    "    excluded_area = nucleus_mask | first_donut_mask\n",
    "    outer_mask = dilation(excluded_area, disk(n_pixels))\n",
    "    outer_donut = outer_mask & (~excluded_area)\n",
    "    outer_donut_mask[outer_donut] = region.label\n",
    "\n",
    "viewer.add_labels(outer_donut_mask, name='outer_donut')"
   ]
  },
  {
   "cell_type": "markdown",
   "id": "6096b664-de8b-4a50-9613-dbd80cef9363",
   "metadata": {},
   "source": [
    "### Delete all overlapping regions --> REVIEW THIS CODE ENTIRELY TO FULLY UNDERSTAND IT"
   ]
  },
  {
   "cell_type": "code",
   "execution_count": 74,
   "id": "0156c248-0700-46c4-ab5d-1d919fa6e81e",
   "metadata": {},
   "outputs": [
    {
     "name": "stderr",
     "output_type": "stream",
     "text": [
      "/var/folders/zc/r5_5f1x56sq9gtmyssh_0g300000gn/T/ipykernel_39003/2779773151.py:24: FutureWarning: `square` is deprecated since version 0.25 and will be removed in version 0.27. Use `skimage.morphology.footprint_rectangle` instead.\n",
      "  dilated_a = dilation(region_a['mask'], square(3))  # 8-connected dilation\n"
     ]
    },
    {
     "data": {
      "text/plain": [
       "<Labels layer 'no_overlap_outer_donut' at 0x31b466120>"
      ]
     },
     "execution_count": 74,
     "metadata": {},
     "output_type": "execute_result"
    }
   ],
   "source": [
    "from skimage.morphology import square\n",
    "\n",
    "# Step 1: Get all unique labels\n",
    "labels = np.unique(cleaned_mask)\n",
    "labels = labels[labels != 0]\n",
    "\n",
    "# Step 2: Build combined masks per region\n",
    "regions = []\n",
    "for label_id in labels:\n",
    "    combined_mask = (\n",
    "        (cleaned_mask == label_id) |\n",
    "        (donut_mask == label_id) |\n",
    "        (outer_donut_mask == label_id)\n",
    "    )\n",
    "    regions.append({\n",
    "        'label': label_id,\n",
    "        'mask': combined_mask\n",
    "    })\n",
    "\n",
    "# Step 3: Find touching regions using dilation\n",
    "labels_to_remove = set()\n",
    "\n",
    "for i, region_a in enumerate(regions):\n",
    "    dilated_a = dilation(region_a['mask'], square(3))  # 8-connected dilation\n",
    "\n",
    "    for j, region_b in enumerate(regions):\n",
    "        if i >= j:\n",
    "            continue  # avoid duplicate checks\n",
    "\n",
    "        if np.any(dilated_a & region_b['mask']):\n",
    "            labels_to_remove.add(region_a['label'])\n",
    "            labels_to_remove.add(region_b['label'])\n",
    "\n",
    "# Step 4: Remove touching labels from all masks\n",
    "def remove_labels(mask, labels_to_remove):\n",
    "    output = np.copy(mask)\n",
    "    output[np.isin(mask, list(labels_to_remove))] = 0\n",
    "    return output.astype(np.int32)\n",
    "\n",
    "cleaned_filtered = remove_labels(cleaned_mask, labels_to_remove)\n",
    "donut_filtered = remove_labels(donut_mask, labels_to_remove)\n",
    "outer_donut_filtered = remove_labels(outer_donut_mask, labels_to_remove)\n",
    "\n",
    "viewer.add_labels(cleaned_filtered, name='no_overlap_nuclei')\n",
    "viewer.add_labels(donut_filtered, name='no_overlap_donuts')\n",
    "viewer.add_labels(outer_donut_filtered, name='no_overlap_outer_donut')"
   ]
  },
  {
   "cell_type": "markdown",
   "id": "d7afa02e-f419-4d6f-a44f-0a83f05c10a1",
   "metadata": {},
   "source": [
    "### Personal note:\n",
    "Make the alternative overlapping approach (where instead of removing any and all overlapping regions, just delete regions that overlap with inner donuts)."
   ]
  },
  {
   "cell_type": "markdown",
   "id": "8f839451-7e2e-490c-b100-51eb2b13610e",
   "metadata": {},
   "source": [
    "### Delete regions with cut-off donuts"
   ]
  },
  {
   "cell_type": "code",
   "execution_count": 75,
   "id": "02ae0531-411c-4554-8e12-feda9fa50175",
   "metadata": {},
   "outputs": [
    {
     "data": {
      "text/plain": [
       "<Labels layer 'pre_transfection_outer_donuts' at 0x31b457cb0>"
      ]
     },
     "execution_count": 75,
     "metadata": {},
     "output_type": "execute_result"
    }
   ],
   "source": [
    "image_height, image_width = cleaned_filtered.shape\n",
    "pre_tf_nuclei = np.zeros_like(cleaned_filtered)\n",
    "pre_tf_donuts = np.zeros_like(donut_filtered)\n",
    "pre_tf_outer_donuts = np.zeros_like(outer_donut_filtered)\n",
    "\n",
    "for region in regions: # Using the list from the previous cell\n",
    "    label_id = region['label'] \n",
    "    \n",
    "    combined = (\n",
    "        (cleaned_filtered == label_id) |\n",
    "        (donut_filtered == label_id) |\n",
    "        (outer_donut_filtered == label_id)\n",
    "    )\n",
    "\n",
    "    coords = np.argwhere(combined)\n",
    "    if coords.size == 0:\n",
    "        continue\n",
    "    min_row, min_col = coords.min(axis=0)\n",
    "    max_row, max_col = coords.max(axis=0)\n",
    "\n",
    "    touches_edge = (min_row == 0 or min_col == 0 or max_row == image_height or max_col == image_width)\n",
    "\n",
    "    if not touches_edge:\n",
    "        pre_tf_nuclei[cleaned_filtered == label_id] = label_id\n",
    "        pre_tf_donuts[donut_filtered == label_id] = label_id\n",
    "        pre_tf_outer_donuts[outer_donut_filtered == label_id] = label_id\n",
    "\n",
    "viewer.add_labels(pre_tf_nuclei, name='pre_transfection_nuclei')\n",
    "viewer.add_labels(pre_tf_donuts, name='pre_transfection_donuts')\n",
    "viewer.add_labels(pre_tf_outer_donuts, name='pre_transfection_outer_donuts')"
   ]
  },
  {
   "cell_type": "code",
   "execution_count": 76,
   "id": "08892c60-4105-4945-8b73-1caaa3d2fe4f",
   "metadata": {},
   "outputs": [
    {
     "name": "stdout",
     "output_type": "stream",
     "text": [
      "1024 1024 | (1024, 1024)\n"
     ]
    }
   ],
   "source": [
    "# If these pairs of numbers are different, the cell above didn't work properly.\n",
    "print(image_height, image_width, '|', combined.shape)"
   ]
  },
  {
   "cell_type": "markdown",
   "id": "32b4a317-e72b-47e0-86b1-b335b0c808e0",
   "metadata": {},
   "source": [
    "### Remove cells with low transfection"
   ]
  },
  {
   "cell_type": "code",
   "execution_count": 77,
   "id": "91b2e1f5-cbe6-4405-8df4-d4794c378996",
   "metadata": {},
   "outputs": [
    {
     "data": {
      "text/plain": [
       "<Image layer 'transfection' at 0x32de6f350>"
      ]
     },
     "execution_count": 77,
     "metadata": {},
     "output_type": "execute_result"
    }
   ],
   "source": [
    "# This is purely for visualization, so no need to mess with these parameters too much.\n",
    "viewer.add_image(\n",
    "    transfection_img,\n",
    "    name='transfection',\n",
    "    colormap='green',         \n",
    "    contrast_limits=[0, 255], # adjust depending on intensity range\n",
    "    blending='additive',     \n",
    "    opacity=0.7 # adjust as needed\n",
    ")"
   ]
  },
  {
   "cell_type": "code",
   "execution_count": 78,
   "id": "ea57091a-3241-4c0e-8db9-e82b5aedab81",
   "metadata": {},
   "outputs": [
    {
     "data": {
      "text/plain": [
       "<Labels layer 'final_outer_donuts' at 0x3131a2c00>"
      ]
     },
     "execution_count": 78,
     "metadata": {},
     "output_type": "execute_result"
    }
   ],
   "source": [
    "transfection_img_norm = (transfection_img - transfection_img.min()) / (transfection_img.max() - transfection_img.min())\n",
    "\n",
    "threshold = 0.05  # Raise or lower as needed\n",
    "\n",
    "labels = np.unique(pre_tf_nuclei)\n",
    "labels = labels[labels != 0]\n",
    "\n",
    "final_nuclei = np.zeros_like(pre_tf_nuclei)\n",
    "final_donuts = np.zeros_like(pre_tf_donuts)\n",
    "final_outer_donuts = np.zeros_like(pre_tf_outer_donuts)\n",
    "\n",
    "for label_id in labels:\n",
    "    nucleus_mask = (pre_tf_nuclei == label_id)\n",
    "    donut_mask = (pre_tf_donuts == label_id)\n",
    "    outer_mask = (pre_tf_outer_donuts == label_id)\n",
    "\n",
    "    mean_intensity = transfection_img_norm[donut_mask].mean()\n",
    "\n",
    "    if mean_intensity >= threshold:\n",
    "        final_nuclei[nucleus_mask] = label_id\n",
    "        final_donuts[donut_mask] = label_id\n",
    "        final_outer_donuts[outer_mask] = label_id\n",
    "\n",
    "viewer.add_labels(final_nuclei, name='final_nuclei')\n",
    "viewer.add_labels(final_donuts, name='final_donuts')\n",
    "viewer.add_labels(final_outer_donuts, name='final_outer_donuts')"
   ]
  }
 ],
 "metadata": {
  "kernelspec": {
   "display_name": "Python 3 (ipykernel)",
   "language": "python",
   "name": "python3"
  },
  "language_info": {
   "codemirror_mode": {
    "name": "ipython",
    "version": 3
   },
   "file_extension": ".py",
   "mimetype": "text/x-python",
   "name": "python",
   "nbconvert_exporter": "python",
   "pygments_lexer": "ipython3",
   "version": "3.12.10"
  }
 },
 "nbformat": 4,
 "nbformat_minor": 5
}
