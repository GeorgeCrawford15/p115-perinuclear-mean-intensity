{
 "cells": [
  {
   "cell_type": "markdown",
   "id": "cacc5768-9da6-428c-8320-04abb6c7d3f3",
   "metadata": {},
   "source": [
    "# Napari Visualization Pipeline\n",
    "\n",
    "Note: This pipeline assumes that all microscopy images are already grayscale."
   ]
  },
  {
   "cell_type": "code",
   "execution_count": 16,
   "id": "5b57a693-1430-4abd-90b6-0c1be43622f7",
   "metadata": {},
   "outputs": [],
   "source": [
    "import napari\n",
    "import numpy as np\n",
    "from skimage import morphology, restoration, filters, measure\n",
    "from tifffile import imread\n",
    "\n",
    "#img = imread('cell-data/parent_control_z3_ch00.tif') --> This was an initial testing image\n",
    "\n",
    "# Current testing images\n",
    "#nuclei_img = imread('cell-data/test-image-set/22KO_mCHC17_GFP_3_z3_ch00.tif')\n",
    "#transfection_img = imread('cell-data/test-image-set/22KO_mCHC17_GFP_3_z3_ch01.tif')\n",
    "#p115_img = imread('cell-data/test-image-set/22KO_mCHC17_GFP_3_z3_ch02.tif')\n",
    "\n",
    "nuclei_img = imread('cell-data/test-image-set-2/parent_mCHC17_GFP_4_z3_ch00.tif')\n",
    "transfection_img = imread('cell-data/test-image-set-2/parent_mCHC17_GFP_4_z2_ch01.tif')\n",
    "p115_img = imread('cell-data/test-image-set-2/parent_mCHC17_GFP_4_z2_ch02.tif')\n",
    "\n",
    "viewer = napari.Viewer()\n",
    "viewer.add_image(nuclei_img, name='nuclei')\n",
    "viewer.theme = 'light'"
   ]
  },
  {
   "cell_type": "markdown",
   "id": "043c4d73-9c47-4603-8d23-a4534e9e9e1f",
   "metadata": {},
   "source": [
    "### Erosion"
   ]
  },
  {
   "cell_type": "code",
   "execution_count": 17,
   "id": "a6cdca46-902b-41ff-be77-d5fca1429e7e",
   "metadata": {},
   "outputs": [
    {
     "data": {
      "text/plain": [
       "<Image layer 'eroded' at 0x32a82a8a0>"
      ]
     },
     "execution_count": 17,
     "metadata": {},
     "output_type": "execute_result"
    }
   ],
   "source": [
    "from skimage.morphology import erosion, disk\n",
    "\n",
    "eroded = erosion(nuclei_img, disk(1)) # Change to 2 or 3 for more intense erosion\n",
    "\n",
    "viewer.add_image(eroded, name='eroded')"
   ]
  },
  {
   "cell_type": "markdown",
   "id": "95eb1c1a-a3c5-4c02-8913-fc02f8a9b1ee",
   "metadata": {},
   "source": [
    "### Estimate noise and denoise via non-local means"
   ]
  },
  {
   "cell_type": "code",
   "execution_count": 18,
   "id": "dded80b3-8050-4dd0-869e-7026b1dcb7d6",
   "metadata": {},
   "outputs": [
    {
     "data": {
      "text/plain": [
       "<Image layer 'denoised' at 0x362b306b0>"
      ]
     },
     "execution_count": 18,
     "metadata": {},
     "output_type": "execute_result"
    }
   ],
   "source": [
    "from skimage.restoration import denoise_nl_means, estimate_sigma\n",
    "from skimage.util import img_as_float\n",
    "\n",
    "img_float = img_as_float(eroded)\n",
    "\n",
    "sigma_est = np.mean(estimate_sigma(img_float, channel_axis=None)) # Estimated noise standard deviation. Lower SD means lower estimated noise.\n",
    "\n",
    "denoised = denoise_nl_means(\n",
    "    img_float,\n",
    "    h=0.8 * sigma_est, # h is filter strength. This line sets filter strength to 80% of estimated noise level, but tweak this number if necessary.\n",
    "    patch_size=11, # Larger value = captures more context; better denoising but loses fine detail (probably doesn't matter for this use).\n",
    "    patch_distance=12, # Larger value = searches wider area, so better denoising but slower processing.\n",
    "    fast_mode=True # Make False for more accurate denoising (but it'll be a bit slower).\n",
    ")\n",
    "\n",
    "viewer.add_image(denoised, name='denoised')"
   ]
  },
  {
   "cell_type": "markdown",
   "id": "081b3483-cfe4-415b-a39b-045debe10eb6",
   "metadata": {},
   "source": [
    "### Create nucleus mask"
   ]
  },
  {
   "cell_type": "code",
   "execution_count": 19,
   "id": "1b9d73dc-aa1d-43ae-ab59-475f9864e6cb",
   "metadata": {},
   "outputs": [
    {
     "data": {
      "text/plain": [
       "<Labels layer 'initial_nuclei_mask' at 0x33cd361e0>"
      ]
     },
     "execution_count": 19,
     "metadata": {},
     "output_type": "execute_result"
    }
   ],
   "source": [
    "threshold = 0.05 # Play around with the threshold to find the optimal value.\n",
    "initial_nuclei_mask = denoised > threshold # For each pixel --> if it's brighter than the threshold value, count it as foreground (part of a nucleus).\n",
    "# The line above creates a boolean array.\n",
    "\n",
    "viewer.add_labels(initial_nuclei_mask.astype(int), name='initial_nuclei_mask') # This turns the boolean array into binaries."
   ]
  },
  {
   "cell_type": "markdown",
   "id": "8b688059-3e2b-42bf-83ab-326bf07d8f72",
   "metadata": {},
   "source": [
    "### Fill any gaps in the mask regions"
   ]
  },
  {
   "cell_type": "code",
   "execution_count": 20,
   "id": "8cfa7f16-23f8-4f0a-8717-220d15e2f9be",
   "metadata": {},
   "outputs": [
    {
     "data": {
      "text/plain": [
       "<Labels layer 'hole-filled-mask' at 0x367788da0>"
      ]
     },
     "execution_count": 20,
     "metadata": {},
     "output_type": "execute_result"
    }
   ],
   "source": [
    "from scipy.ndimage import binary_fill_holes\n",
    "import numpy as np\n",
    "\n",
    "# Assuming 'mask' is a binary numpy array where nuclei are True (1) and background is False (0)\n",
    "filled_mask = binary_fill_holes(initial_nuclei_mask)\n",
    "\n",
    "# Convert back to int if needed\n",
    "filled_mask = filled_mask.astype(np.uint8)\n",
    "\n",
    "viewer.add_labels(filled_mask, name='hole-filled-mask')"
   ]
  },
  {
   "cell_type": "markdown",
   "id": "cd4668df-d460-4357-b326-841172c355a4",
   "metadata": {},
   "source": [
    "### Separate mask into distinct regions with integer labels"
   ]
  },
  {
   "cell_type": "code",
   "execution_count": 21,
   "id": "f5bc475f-06ed-4a88-ac62-b21337a97b30",
   "metadata": {},
   "outputs": [
    {
     "data": {
      "text/plain": [
       "<Labels layer 'labeled_nuclei_mask' at 0x3679b2fc0>"
      ]
     },
     "execution_count": 21,
     "metadata": {},
     "output_type": "execute_result"
    }
   ],
   "source": [
    "from skimage.measure import label\n",
    "\n",
    "labeled_mask = label(filled_mask) # Label connected regions of the mask\n",
    "\n",
    "viewer.add_labels(labeled_mask, name='labeled_nuclei_mask')"
   ]
  },
  {
   "cell_type": "markdown",
   "id": "4c5cbce2-725d-4a75-bfae-3dad0563eccf",
   "metadata": {},
   "source": [
    "### Clean mask by removing nucleus regions that are cut off by the image and by removing isolated pixels that remain after erosion and denoising"
   ]
  },
  {
   "cell_type": "code",
   "execution_count": 22,
   "id": "95aa8466-5a94-4cd2-b891-d1f603fe90ab",
   "metadata": {},
   "outputs": [
    {
     "data": {
      "text/plain": [
       "<Labels layer 'cleaned_nuclei_mask' at 0x36160a570>"
      ]
     },
     "execution_count": 22,
     "metadata": {},
     "output_type": "execute_result"
    }
   ],
   "source": [
    "from skimage.measure import regionprops\n",
    "import numpy as np\n",
    "\n",
    "image_height, image_width = labeled_mask.shape\n",
    "cleaned_nuclei_mask = np.zeros_like(labeled_mask)\n",
    "\n",
    "for region in regionprops(labeled_mask):\n",
    "    min_row, min_column, max_row, max_column = region.bbox\n",
    "\n",
    "    # This checks for labeled regions at the edges of the image\n",
    "    touches_edge = (min_row == 0 or min_column == 0 or max_row == image_height or max_column == image_width)\n",
    "    \n",
    "    if not touches_edge and region.area >= 500:\n",
    "        cleaned_nuclei_mask[labeled_mask == region.label] = region.label \n",
    "        # This line sets all pixels in cleaned_nuclei_mask at positions where the boolean mask is True to the integer value region.label.\n",
    "        # Each specific integer value is a specific label/color.\n",
    "        \n",
    "viewer.add_labels(cleaned_nuclei_mask, name='cleaned_nuclei_mask')"
   ]
  },
  {
   "cell_type": "markdown",
   "id": "da032175-3e20-4727-99de-9f1ad03b693c",
   "metadata": {},
   "source": [
    "### Determine the image's microns per pixel ratio and create the first donut mask --> PERSONAL NOTE: Confirm the output with Fiji since this is a new image"
   ]
  },
  {
   "cell_type": "code",
   "execution_count": 23,
   "id": "d6185e55-d7ff-4c00-b634-aa245232c1e8",
   "metadata": {},
   "outputs": [
    {
     "name": "stdout",
     "output_type": "stream",
     "text": [
      "Compare these values to the metadata in Fiji ImageJ:\n",
      "X pixels/µm: 5.5440\n",
      "Y pixels/µm: 5.5440\n"
     ]
    },
    {
     "data": {
      "text/plain": [
       "<Labels layer 'donut' at 0x3678eddc0>"
      ]
     },
     "execution_count": 23,
     "metadata": {},
     "output_type": "execute_result"
    }
   ],
   "source": [
    "from skimage.morphology import dilation, disk\n",
    "from skimage.segmentation import find_boundaries\n",
    "import tifffile\n",
    "\n",
    "with tifffile.TiffFile('cell-data/test-image-set/22KO_mCHC17_GFP_3_z3_ch00.tif') as tif: # CHANGE THIS DEPENDING ON THE IMAGE SET YOU'RE USING!!!\n",
    "    page = tif.pages[0]\n",
    "    tags = page.tags\n",
    "\n",
    "    x_res = tags['XResolution'].value  # (num, denom)\n",
    "    y_res = tags['YResolution'].value\n",
    "    res_unit = tags['ResolutionUnit'].value  # 3 = centimeters\n",
    "\n",
    "    # Convert to pixels per micrometer\n",
    "    if res_unit == 3:  # Centimeters\n",
    "        x_ppcm = x_res[0] / x_res[1]\n",
    "        y_ppcm = y_res[0] / y_res[1]\n",
    "        x_ppum = x_ppcm / 10000  # cm → µm\n",
    "        y_ppum = y_ppcm / 10000\n",
    "        print('Compare these values to the metadata in Fiji ImageJ:')\n",
    "        print(f'X pixels/µm: {x_ppum:.4f}')\n",
    "        print(f'Y pixels/µm: {y_ppum:.4f}')\n",
    "    else:\n",
    "        print('Unsupported resolution unit:', res_unit)\n",
    "\n",
    "microns_per_pixel = (1 / x_ppum + 1 / y_ppum) / 2\n",
    "desired_donut_width_um = 4.5\n",
    "n_pixels = int(desired_donut_width_um / microns_per_pixel)\n",
    "\n",
    "outer_mask = dilation(cleaned_nuclei_mask, disk(n_pixels))\n",
    "\n",
    "donut_mask = outer_mask - cleaned_nuclei_mask\n",
    "donut_mask[donut_mask < 0] = 0  # Just in case\n",
    "\n",
    "donut_mask = donut_mask.astype(np.uint8)\n",
    "\n",
    "viewer.add_labels(donut_mask, name='donut')"
   ]
  },
  {
   "cell_type": "markdown",
   "id": "26ab5209-1ab1-434a-a56e-5ef0bc8652fe",
   "metadata": {},
   "source": [
    "### Create the outer donut mask"
   ]
  },
  {
   "cell_type": "code",
   "execution_count": 24,
   "id": "5d41cf05-7c18-407d-85aa-a45903819d14",
   "metadata": {},
   "outputs": [
    {
     "data": {
      "text/plain": [
       "<Labels layer 'outer_donut' at 0x379c26450>"
      ]
     },
     "execution_count": 24,
     "metadata": {},
     "output_type": "execute_result"
    }
   ],
   "source": [
    "desired_outer_donut_width_um = 1.5\n",
    "n_pixels = int(desired_outer_donut_width_um / microns_per_pixel)\n",
    "\n",
    "outer_donut_mask = np.zeros_like(cleaned_nuclei_mask, dtype=np.uint16)\n",
    "\n",
    "regions = regionprops(cleaned_nuclei_mask)\n",
    "\n",
    "for region in regions:\n",
    "    nucleus_mask = (cleaned_nuclei_mask == region.label)\n",
    "    first_donut_mask = (donut_mask == region.label)\n",
    "    excluded_area = nucleus_mask | first_donut_mask\n",
    "    outer_mask = dilation(excluded_area, disk(n_pixels))\n",
    "    outer_donut = outer_mask & (~excluded_area)\n",
    "    outer_donut_mask[outer_donut] = region.label\n",
    "\n",
    "viewer.add_labels(outer_donut_mask, name='outer_donut')"
   ]
  },
  {
   "cell_type": "markdown",
   "id": "6096b664-de8b-4a50-9613-dbd80cef9363",
   "metadata": {},
   "source": [
    "### **Initial overlapping method (more extreme)**: Delete all overlapping regions --> REVIEW THIS CODE ENTIRELY TO FULLY UNDERSTAND IT"
   ]
  },
  {
   "cell_type": "code",
   "execution_count": 10,
   "id": "0156c248-0700-46c4-ab5d-1d919fa6e81e",
   "metadata": {},
   "outputs": [
    {
     "name": "stderr",
     "output_type": "stream",
     "text": [
      "/var/folders/zc/r5_5f1x56sq9gtmyssh_0g300000gn/T/ipykernel_2156/2779773151.py:24: FutureWarning: `square` is deprecated since version 0.25 and will be removed in version 0.27. Use `skimage.morphology.footprint_rectangle` instead.\n",
      "  dilated_a = dilation(region_a['mask'], square(3))  # 8-connected dilation\n"
     ]
    },
    {
     "data": {
      "text/plain": [
       "<Labels layer 'no_overlap_outer_donut' at 0x32ab75340>"
      ]
     },
     "execution_count": 10,
     "metadata": {},
     "output_type": "execute_result"
    }
   ],
   "source": [
    "from skimage.morphology import square\n",
    "\n",
    "# Step 1: Get all unique labels\n",
    "labels = np.unique(cleaned_nuclei_mask)\n",
    "labels = labels[labels != 0]\n",
    "\n",
    "# Step 2: Build combined masks per region\n",
    "regions = []\n",
    "for label_id in labels:\n",
    "    combined_mask = (\n",
    "        (cleaned_nuclei_mask == label_id) |\n",
    "        (donut_mask == label_id) |\n",
    "        (outer_donut_mask == label_id)\n",
    "    )\n",
    "    regions.append({\n",
    "        'label': label_id,\n",
    "        'mask': combined_mask\n",
    "    })\n",
    "\n",
    "# Step 3: Find touching regions using dilation\n",
    "labels_to_remove = set()\n",
    "\n",
    "for i, region_a in enumerate(regions):\n",
    "    dilated_a = dilation(region_a['mask'], square(3))  # 8-connected dilation\n",
    "\n",
    "    for j, region_b in enumerate(regions):\n",
    "        if i >= j:\n",
    "            continue  # avoid duplicate checks\n",
    "\n",
    "        if np.any(dilated_a & region_b['mask']):\n",
    "            labels_to_remove.add(region_a['label'])\n",
    "            labels_to_remove.add(region_b['label'])\n",
    "\n",
    "# Step 4: Remove touching labels from all masks\n",
    "def remove_labels(mask, labels_to_remove):\n",
    "    output = np.copy(mask)\n",
    "    output[np.isin(mask, list(labels_to_remove))] = 0\n",
    "    return output.astype(np.int32)\n",
    "\n",
    "cleaned_filtered = remove_labels(cleaned_nuclei_mask, labels_to_remove)\n",
    "donut_filtered = remove_labels(donut_mask, labels_to_remove)\n",
    "outer_donut_filtered = remove_labels(outer_donut_mask, labels_to_remove)\n",
    "\n",
    "viewer.add_labels(cleaned_filtered, name='no_overlap_nuclei')\n",
    "viewer.add_labels(donut_filtered, name='no_overlap_donuts')\n",
    "viewer.add_labels(outer_donut_filtered, name='no_overlap_outer_donut')"
   ]
  },
  {
   "cell_type": "markdown",
   "id": "acaeeb68-d86a-4abc-8b2d-ff7570d5cec4",
   "metadata": {},
   "source": [
    "### **Alternative overlapping method (more lenient)**: Remove regions whose outer donuts overlap with other regions' inner donuts and vice versa --> REVIEW THIS CODE ENTIRELY TO FULLY UNDERSTAND IT"
   ]
  },
  {
   "cell_type": "code",
   "execution_count": 25,
   "id": "2b6bb677-0267-4f60-b530-1e2610e9cbe3",
   "metadata": {},
   "outputs": [
    {
     "data": {
      "text/plain": [
       "<Labels layer 'filtered_outer_donuts' at 0x3668e9cd0>"
      ]
     },
     "execution_count": 25,
     "metadata": {},
     "output_type": "execute_result"
    }
   ],
   "source": [
    "from skimage.morphology import binary_dilation, square\n",
    "\n",
    "labels = np.unique(cleaned_nuclei_mask)\n",
    "labels = labels[labels != 0]\n",
    "\n",
    "regions = []\n",
    "for label_id in labels:\n",
    "    region = {\n",
    "        'label': label_id,\n",
    "        'nucleus': (cleaned_nuclei_mask == label_id),\n",
    "        'donut': (donut_mask == label_id),\n",
    "        'outer': (outer_donut_mask == label_id)\n",
    "    }\n",
    "    regions.append(region)\n",
    "\n",
    "labels_to_remove = set()\n",
    "\n",
    "for i, region_a in enumerate(regions):\n",
    "    inner_donut_a = region_a['donut']\n",
    "    outer_donut_a = region_a['outer']\n",
    "\n",
    "    for j, region_b in enumerate(regions):\n",
    "        if i == j:\n",
    "            continue\n",
    "\n",
    "        inner_donut_b = region_b['donut']\n",
    "        outer_donut_b = region_b['outer']\n",
    "\n",
    "        # Check for inner donut of A overlapping outer donut of B\n",
    "        if np.any(inner_donut_a & outer_donut_b):\n",
    "            labels_to_remove.add(region_a['label'])\n",
    "            labels_to_remove.add(region_b['label'])\n",
    "\n",
    "        # Check for outer donut of A overlapping inner donut of B\n",
    "        elif np.any(outer_donut_a & inner_donut_b):\n",
    "            labels_to_remove.add(region_a['label'])\n",
    "            labels_to_remove.add(region_b['label'])\n",
    "\n",
    "# Remove only labels that meet this specific donut overlap condition\n",
    "def remove_labels(mask, labels_to_remove):\n",
    "    output = np.copy(mask)\n",
    "    output[np.isin(mask, list(labels_to_remove))] = 0\n",
    "    return output.astype(np.int32)\n",
    "\n",
    "cleaned_filtered = remove_labels(cleaned_nuclei_mask, labels_to_remove)\n",
    "donut_filtered = remove_labels(donut_mask, labels_to_remove)\n",
    "outer_donut_filtered = remove_labels(outer_donut_mask, labels_to_remove)\n",
    "\n",
    "viewer.add_labels(cleaned_filtered, name='filtered_nuclei')\n",
    "viewer.add_labels(donut_filtered, name='filtered_donuts')\n",
    "viewer.add_labels(outer_donut_filtered, name='filtered_outer_donuts')"
   ]
  },
  {
   "cell_type": "markdown",
   "id": "8f839451-7e2e-490c-b100-51eb2b13610e",
   "metadata": {},
   "source": [
    "### Delete regions with cut-off donuts"
   ]
  },
  {
   "cell_type": "code",
   "execution_count": 26,
   "id": "02ae0531-411c-4554-8e12-feda9fa50175",
   "metadata": {},
   "outputs": [
    {
     "data": {
      "text/plain": [
       "<Labels layer 'pre_transfection_outer_donuts' at 0x3561f03b0>"
      ]
     },
     "execution_count": 26,
     "metadata": {},
     "output_type": "execute_result"
    }
   ],
   "source": [
    "image_height, image_width = cleaned_filtered.shape\n",
    "pre_tf_nuclei = np.zeros_like(cleaned_filtered)\n",
    "pre_tf_donuts = np.zeros_like(donut_filtered)\n",
    "pre_tf_outer_donuts = np.zeros_like(outer_donut_filtered)\n",
    "\n",
    "for region in regions: # Using the list from the previous cell\n",
    "    label_id = region['label']\n",
    "    \n",
    "    combined = (\n",
    "        (cleaned_filtered == label_id) |\n",
    "        (donut_filtered == label_id) |\n",
    "        (outer_donut_filtered == label_id)\n",
    "    )\n",
    "\n",
    "    coords = np.argwhere(combined)\n",
    "    if coords.size == 0:\n",
    "        continue\n",
    "    min_row, min_col = coords.min(axis=0)\n",
    "    max_row, max_col = coords.max(axis=0)\n",
    "\n",
    "    touches_edge = (min_row == 0 or min_col == 0 or max_row == image_height or max_col == image_width)\n",
    "\n",
    "    if not touches_edge:\n",
    "        pre_tf_nuclei[cleaned_filtered == label_id] = label_id\n",
    "        pre_tf_donuts[donut_filtered == label_id] = label_id\n",
    "        pre_tf_outer_donuts[outer_donut_filtered == label_id] = label_id\n",
    "\n",
    "viewer.add_labels(pre_tf_nuclei, name='pre_transfection_nuclei')\n",
    "viewer.add_labels(pre_tf_donuts, name='pre_transfection_donuts')\n",
    "viewer.add_labels(pre_tf_outer_donuts, name='pre_transfection_outer_donuts')"
   ]
  },
  {
   "cell_type": "code",
   "execution_count": 27,
   "id": "08892c60-4105-4945-8b73-1caaa3d2fe4f",
   "metadata": {},
   "outputs": [
    {
     "name": "stdout",
     "output_type": "stream",
     "text": [
      "1024 1024 | (1024, 1024)\n"
     ]
    }
   ],
   "source": [
    "# If these pairs of numbers are different, the cell above didn't work properly.\n",
    "print(image_height, image_width, '|', combined.shape)"
   ]
  },
  {
   "cell_type": "markdown",
   "id": "32b4a317-e72b-47e0-86b1-b335b0c808e0",
   "metadata": {},
   "source": [
    "### Remove cells with low transfection (by evaluating mean intensity in the inner donuts against upper and lower intensity thresholds)"
   ]
  },
  {
   "cell_type": "code",
   "execution_count": 28,
   "id": "91b2e1f5-cbe6-4405-8df4-d4794c378996",
   "metadata": {},
   "outputs": [
    {
     "data": {
      "text/plain": [
       "<Image layer 'transfection' at 0x365f09c70>"
      ]
     },
     "execution_count": 28,
     "metadata": {},
     "output_type": "execute_result"
    }
   ],
   "source": [
    "# This is purely for visualization, so no need to mess with these parameters too much.\n",
    "viewer.add_image(\n",
    "    transfection_img,\n",
    "    name='transfection',\n",
    "    colormap='green',         \n",
    "    contrast_limits=[0, 255], # adjust depending on intensity range\n",
    "    blending='additive',     \n",
    "    opacity=0.7 # adjust as needed\n",
    ")"
   ]
  },
  {
   "cell_type": "code",
   "execution_count": 29,
   "id": "ea57091a-3241-4c0e-8db9-e82b5aedab81",
   "metadata": {},
   "outputs": [
    {
     "data": {
      "text/plain": [
       "<Labels layer 'final_outer_donuts' at 0x361f32ea0>"
      ]
     },
     "execution_count": 29,
     "metadata": {},
     "output_type": "execute_result"
    }
   ],
   "source": [
    "transfection_img_norm = (transfection_img - transfection_img.min()) / (transfection_img.max() - transfection_img.min())\n",
    "\n",
    "# Raise or lower these as needed:\n",
    "lower_threshold = 0.05  \n",
    "upper_threshold = 0.2\n",
    "\n",
    "labels = np.unique(pre_tf_nuclei)\n",
    "labels = labels[labels != 0]\n",
    "\n",
    "final_nuclei = np.zeros_like(pre_tf_nuclei)\n",
    "final_donuts = np.zeros_like(pre_tf_donuts)\n",
    "final_outer_donuts = np.zeros_like(pre_tf_outer_donuts)\n",
    "\n",
    "for label_id in labels:\n",
    "    nucleus_mask = (pre_tf_nuclei == label_id)\n",
    "    donut_mask = (pre_tf_donuts == label_id)\n",
    "    outer_mask = (pre_tf_outer_donuts == label_id)\n",
    "\n",
    "    mean_intensity = transfection_img_norm[donut_mask].mean()\n",
    "\n",
    "    if mean_intensity >= lower_threshold and mean_intensity <= upper_threshold:\n",
    "        final_nuclei[nucleus_mask] = label_id\n",
    "        final_donuts[donut_mask] = label_id\n",
    "        final_outer_donuts[outer_mask] = label_id\n",
    "\n",
    "viewer.add_labels(final_nuclei, name='final_nuclei')\n",
    "viewer.add_labels(final_donuts, name='final_donuts')\n",
    "viewer.add_labels(final_outer_donuts, name='final_outer_donuts')"
   ]
  },
  {
   "cell_type": "markdown",
   "id": "1930734f-59b2-45e1-ac4c-b73c2bb119a9",
   "metadata": {},
   "source": [
    "### Evaluate p115 intensity"
   ]
  },
  {
   "cell_type": "markdown",
   "id": "b82bca66-9b6b-4d1f-9a3d-bb67ca4c7483",
   "metadata": {},
   "source": [
    "p115 additions:\n",
    "- mean intensity, max intensity (brightest pixel), and area for each mask and big mask\n",
    "\n",
    "Within regions_stats:\n",
    "Each key is a region. Each value is a list holding the stats of that region, with information in the following order:\n",
    "- [integer label,\n",
    "- a ColorArray with the RGBA values that correspond to that integer label,\n",
    "- {nucleus mask: [mean intensity, max intensity, p115 area in mask]}\n",
    "- {inner donut mask: [mean intensity, max intensity, p115 area in mask]}\n",
    "- {outer donut mask: [mean intensity, max intensity, p115 area in mask]}\n",
    "- {total/regional mask: mean [intensity, max intensity, p115 area in mask]}]"
   ]
  },
  {
   "cell_type": "code",
   "execution_count": 30,
   "id": "2ba0a9d4-29db-4ca2-8580-8a522894d407",
   "metadata": {},
   "outputs": [
    {
     "data": {
      "text/plain": [
       "<Image layer 'p115' at 0x37df829f0>"
      ]
     },
     "execution_count": 30,
     "metadata": {},
     "output_type": "execute_result"
    }
   ],
   "source": [
    "viewer.add_image(\n",
    "    p115_img,\n",
    "    name='p115',\n",
    "    colormap='magma',         \n",
    "    contrast_limits=[0, 255], # adjust depending on intensity range\n",
    "    blending='additive',     \n",
    "    opacity=0.7 # adjust as needed\n",
    ")"
   ]
  },
  {
   "cell_type": "markdown",
   "id": "46e619de-a877-435d-88fd-c437794a770d",
   "metadata": {},
   "source": [
    "### Note: Put area values in microns"
   ]
  },
  {
   "cell_type": "code",
   "execution_count": 31,
   "id": "9d162be3-4d91-48df-8c27-bd4dce400730",
   "metadata": {},
   "outputs": [
    {
     "name": "stdout",
     "output_type": "stream",
     "text": [
      "Label 7: [0.56078434 0.6784314  0.69803923 1.        ]\n",
      "Label 8: [0.5254902 0.5647059 0.6039216 1.       ]\n",
      "Label 10: [0.96862745 0.26666668 0.23137255 1.        ]\n",
      "Label 30: [0.3764706  0.47843137 0.20392157 1.        ]\n",
      "Label 33: [0.61960787 0.5294118  0.43529412 1.        ]\n",
      "Label 45: [0.6862745  0.29411766 0.9490196  1.        ]\n"
     ]
    }
   ],
   "source": [
    "threshold = 0.05\n",
    "p115_img_norm = (p115_img - p115_img.min()) / (p115_img.max() - p115_img.min())\n",
    "regions_stats = {}\n",
    "\n",
    "layer = viewer.layers['final_nuclei']\n",
    "labels = np.unique(layer.data)\n",
    "labels = labels[labels != 0]\n",
    "label_colors = {label: layer.get_color(label) for label in labels}\n",
    "\n",
    "for label, color in label_colors.items():\n",
    "    print(f'Label {label}: {color}')\n",
    "\n",
    "for label_id in labels:\n",
    "    nucleus_mask = (final_nuclei == label_id)\n",
    "    donut_mask = (final_donuts == label_id)\n",
    "    outer_donut_mask = (final_outer_donuts == label_id)\n",
    "    regional_mask = nucleus_mask | donut_mask | outer_donut_mask\n",
    "    \n",
    "    region_info = {\n",
    "        'label_color': label_colors[label_id],\n",
    "        'nucleus_mask_stats': [],\n",
    "        'donut_mask_stats': [],\n",
    "        'outer_donut_mask_stats': [],\n",
    "        'regional_mask_stats': [],\n",
    "    }\n",
    "\n",
    "    for mask, mask_name in zip([nucleus_mask, donut_mask, outer_donut_mask, regional_mask], \n",
    "                               ['nucleus_mask', 'donut_mask', 'outer_donut_mask', 'regional_mask']):\n",
    "        key = f'{mask_name}_stats'\n",
    "        p115_overlap_pixels = p115_img_norm[(mask) & (p115_img_norm > 0)]\n",
    "        region_info[key].append(p115_overlap_pixels.mean() if p115_overlap_pixels.size > 0 else 0)\n",
    "        region_info[key].append(p115_overlap_pixels.max() if p115_overlap_pixels.size > 0 else 0)\n",
    "        region_info[key].append((p115_overlap_pixels > threshold).sum())\n",
    "    \n",
    "    regions_stats[label_id] = region_info"
   ]
  },
  {
   "cell_type": "markdown",
   "id": "fe276f11-75b6-4b92-8890-1c3c3b4d8602",
   "metadata": {},
   "source": [
    "### Note: Add description of dataframe below!!"
   ]
  },
  {
   "cell_type": "code",
   "execution_count": 40,
   "id": "a41657ae-28bd-4c15-9112-34646ecc7aee",
   "metadata": {},
   "outputs": [
    {
     "data": {
      "text/html": [
       "<div>\n",
       "<style scoped>\n",
       "    .dataframe tbody tr th:only-of-type {\n",
       "        vertical-align: middle;\n",
       "    }\n",
       "\n",
       "    .dataframe tbody tr th {\n",
       "        vertical-align: top;\n",
       "    }\n",
       "\n",
       "    .dataframe thead th {\n",
       "        text-align: right;\n",
       "    }\n",
       "</style>\n",
       "<table border=\"1\" class=\"dataframe\">\n",
       "  <thead>\n",
       "    <tr style=\"text-align: right;\">\n",
       "      <th></th>\n",
       "      <th>label_id</th>\n",
       "      <th>label_color</th>\n",
       "      <th>nucleus_mask_stats</th>\n",
       "      <th>donut_mask_stats</th>\n",
       "      <th>outer_donut_mask_stats</th>\n",
       "      <th>regional_mask_stats</th>\n",
       "    </tr>\n",
       "  </thead>\n",
       "  <tbody>\n",
       "    <tr>\n",
       "      <th>0</th>\n",
       "      <td>7</td>\n",
       "      <td>[0.56078434, 0.6784314, 0.69803923, 1.0]</td>\n",
       "      <td>[0.13609955069673063, 0.9803921568627451, 1334]</td>\n",
       "      <td>[0.18992244296562555, 1.0, 2650]</td>\n",
       "      <td>[0.1500326797385621, 1.0, 546]</td>\n",
       "      <td>[0.16864900821330572, 1.0, 4530]</td>\n",
       "    </tr>\n",
       "    <tr>\n",
       "      <th>1</th>\n",
       "      <td>8</td>\n",
       "      <td>[0.5254902, 0.5647059, 0.6039216, 1.0]</td>\n",
       "      <td>[0.12156699618283254, 0.8470588235294118, 1629]</td>\n",
       "      <td>[0.23246287961094725, 1.0, 2176]</td>\n",
       "      <td>[0.2638641680534452, 1.0, 558]</td>\n",
       "      <td>[0.19388639437211913, 1.0, 4363]</td>\n",
       "    </tr>\n",
       "    <tr>\n",
       "      <th>2</th>\n",
       "      <td>10</td>\n",
       "      <td>[0.96862745, 0.26666668, 0.23137255, 1.0]</td>\n",
       "      <td>[0.13784333274685745, 1.0, 1376]</td>\n",
       "      <td>[0.21009297071856806, 1.0, 2479]</td>\n",
       "      <td>[0.09118994162550514, 0.5450980392156862, 410]</td>\n",
       "      <td>[0.17323980204056483, 1.0, 4265]</td>\n",
       "    </tr>\n",
       "    <tr>\n",
       "      <th>3</th>\n",
       "      <td>30</td>\n",
       "      <td>[0.3764706, 0.47843137, 0.20392157, 1.0]</td>\n",
       "      <td>[0.10032325806375499, 1.0, 1570]</td>\n",
       "      <td>[0.21174235439402322, 1.0, 2504]</td>\n",
       "      <td>[0.126703146374829, 1.0, 560]</td>\n",
       "      <td>[0.160605437161749, 1.0, 4634]</td>\n",
       "    </tr>\n",
       "    <tr>\n",
       "      <th>4</th>\n",
       "      <td>33</td>\n",
       "      <td>[0.61960787, 0.5294118, 0.43529412, 1.0]</td>\n",
       "      <td>[0.15516516951608228, 1.0, 1058]</td>\n",
       "      <td>[0.2011040193203381, 1.0, 1893]</td>\n",
       "      <td>[0.08856486567462299, 0.5882352941176471, 347]</td>\n",
       "      <td>[0.17258949724394917, 1.0, 3298]</td>\n",
       "    </tr>\n",
       "    <tr>\n",
       "      <th>5</th>\n",
       "      <td>45</td>\n",
       "      <td>[0.6862745, 0.29411766, 0.9490196, 1.0]</td>\n",
       "      <td>[0.10860600905522624, 1.0, 1414]</td>\n",
       "      <td>[0.2266368760994902, 1.0, 2197]</td>\n",
       "      <td>[0.12218844984802431, 1.0, 420]</td>\n",
       "      <td>[0.17095259369570612, 1.0, 4031]</td>\n",
       "    </tr>\n",
       "  </tbody>\n",
       "</table>\n",
       "</div>"
      ],
      "text/plain": [
       "   label_id                                label_color  \\\n",
       "0         7   [0.56078434, 0.6784314, 0.69803923, 1.0]   \n",
       "1         8     [0.5254902, 0.5647059, 0.6039216, 1.0]   \n",
       "2        10  [0.96862745, 0.26666668, 0.23137255, 1.0]   \n",
       "3        30   [0.3764706, 0.47843137, 0.20392157, 1.0]   \n",
       "4        33   [0.61960787, 0.5294118, 0.43529412, 1.0]   \n",
       "5        45    [0.6862745, 0.29411766, 0.9490196, 1.0]   \n",
       "\n",
       "                                nucleus_mask_stats  \\\n",
       "0  [0.13609955069673063, 0.9803921568627451, 1334]   \n",
       "1  [0.12156699618283254, 0.8470588235294118, 1629]   \n",
       "2                 [0.13784333274685745, 1.0, 1376]   \n",
       "3                 [0.10032325806375499, 1.0, 1570]   \n",
       "4                 [0.15516516951608228, 1.0, 1058]   \n",
       "5                 [0.10860600905522624, 1.0, 1414]   \n",
       "\n",
       "                   donut_mask_stats  \\\n",
       "0  [0.18992244296562555, 1.0, 2650]   \n",
       "1  [0.23246287961094725, 1.0, 2176]   \n",
       "2  [0.21009297071856806, 1.0, 2479]   \n",
       "3  [0.21174235439402322, 1.0, 2504]   \n",
       "4   [0.2011040193203381, 1.0, 1893]   \n",
       "5   [0.2266368760994902, 1.0, 2197]   \n",
       "\n",
       "                           outer_donut_mask_stats  \\\n",
       "0                  [0.1500326797385621, 1.0, 546]   \n",
       "1                  [0.2638641680534452, 1.0, 558]   \n",
       "2  [0.09118994162550514, 0.5450980392156862, 410]   \n",
       "3                   [0.126703146374829, 1.0, 560]   \n",
       "4  [0.08856486567462299, 0.5882352941176471, 347]   \n",
       "5                 [0.12218844984802431, 1.0, 420]   \n",
       "\n",
       "                regional_mask_stats  \n",
       "0  [0.16864900821330572, 1.0, 4530]  \n",
       "1  [0.19388639437211913, 1.0, 4363]  \n",
       "2  [0.17323980204056483, 1.0, 4265]  \n",
       "3    [0.160605437161749, 1.0, 4634]  \n",
       "4  [0.17258949724394917, 1.0, 3298]  \n",
       "5  [0.17095259369570612, 1.0, 4031]  "
      ]
     },
     "execution_count": 40,
     "metadata": {},
     "output_type": "execute_result"
    }
   ],
   "source": [
    "import pandas as pd\n",
    "\n",
    "regions_df = pd.DataFrame(regions_stats).T.reset_index().rename(columns={'index': 'label_id'})\n",
    "regions_df"
   ]
  },
  {
   "cell_type": "markdown",
   "id": "5e75ca7a-4bfd-46d9-9e6a-42ed53bd30f7",
   "metadata": {},
   "source": [
    "### Future additions: \n",
    "- Put the p115 area values in microns (not pixels like they are currently).\n",
    "- Flip the rows and columns.\n",
    "- Add an 'overall' column to the dataframe to show averages of the cell data.\n",
    "- Add looping for each image set; ideally put all this code into one function that allows the user to adjust every single parameter involved.\n",
    "- Evaluation of how dispersed the p115 is throughout each entire region using SD estimation."
   ]
  },
  {
   "cell_type": "code",
   "execution_count": 3,
   "id": "c8d4a172-13c9-44f8-9ca4-6284fe6cbcd2",
   "metadata": {},
   "outputs": [],
   "source": [
    "image_set_paths = {\n",
    "    'img_set_1': './cell-data/test-image-set',\n",
    "    'img_set_2': './cell-data/test-image-set-2'\n",
    "}"
   ]
  },
  {
   "cell_type": "markdown",
   "id": "6cbda5ac-94db-409a-90c2-b0a7bf4ccf50",
   "metadata": {},
   "source": [
    "## Customizable function for cell image filtering and p115 analysis\n",
    "\n",
    "### Notes on function parameters:\n",
    "- <code>image_set_paths,</code> Edit the dictionary's paths accordingly. Remember that each image set be a folder containing 3 images: one of the cells, one of the transfection, and one of the p115.\n",
    "- <code>erosion_intensity=1,</code> Change to 2 or 3 for more intense erosion.\n",
    "- <code>sigma_est=False,</code> sigma_est is the estimated noise standard deviation. It multiplies the filter strength to provide a tailored denoising strength. Keep this as False if you don't want it to influence denoising and want more manual control over the denoising strength.\n",
    "- <code>denoising_strength = 0.8,</code> Remember that this number will by multiplied by sigma_est if sigma_est is set to True, and thus the denoising strength will be 80% of the standard deviation (or 70% if you change this number to 0.7, and so on). Otherwise, tweak this number to see what denoising strength works best.\n",
    "- <code>denoising_patch_size=11,</code> Larger value = captures more context; better denoising but loses fine detail (which might not matter in some images, but may cause bad nucleus masking in other images darker nucleus pixels).\n",
    "- <code>denoising_patch_distance=12,</code> Larger value = searches wider area, so likely better denoising but slower processing.\n",
    "- <code>denoising_fast_mode=True,</code> Make False for more accurate denoising (but it'll be a bit slower).\n",
    "- <code>nucleus_mask_threshold=0.05,</code> Tweak the threshold to find the optimal value.\n",
    "- <code>nucleus_area_threshold=500,</code> If there are any isolated regions in the nucleus mask whose areas are less than 500 pixels, they will be deemed not actual nuclei and removed. 500 seems to work well from my own testing on a limited number of images, but tweak this number in case Napari doesn't show smaller nuclei being included in the cleaned nucleus mask.\n",
    "- <code>desired_donut_width_um=4.5,</code> Change if necessary.\n",
    "- <code>desired_outer_donut_width_um=1.5,</code> Change if necessary.\n",
    "- <code>strict_overlapping_filter=False,</code> Setting this to True deletes all cell regions that overlap.\n",
    "- <code>lenient_overlapping_filter=True,</code> Setting this to True deletes all cell regions whose outer donuts overlap with other regionsminner donuts and vice versa (recommended filter). NOTE: Setting both of these filters to True is redundant and will give priority to the first filter. Do not set both of these filters to False, or the final analysis will likely be inaccurate.\n",
    "- <code>lower_transfection_intensity_threshold=0.05,</code> Cell regions whose inner donuts have mean transfection intensities that are lower than this number are removed. Tweak the threshold to find the optimal value.\n",
    "- <code>upper_transfection_intensity_threshold=0.2,</code> Cell regions whose inner donuts have mean transfection intensities that are higher than this number are removed. Tweak the threshold to find the optimal value.\n",
    "- <code>p115_area_intensity_threshold=0.05</code> Pixels in the p115 image whose intensities are lower than this number are not considered when calculating the total area of p115 (in pixels) for each mask in each cell region. \n"
   ]
  },
  {
   "cell_type": "code",
   "execution_count": 13,
   "id": "b83f1d4c-1924-4b35-9a85-6065b197368f",
   "metadata": {},
   "outputs": [],
   "source": [
    "import numpy as np\n",
    "import pandas as pd\n",
    "from skimage.morphology import erosion, disk, dilation, square, binary_dilation\n",
    "from skimage.restoration import denoise_nl_means, estimate_sigma\n",
    "from skimage.util import img_as_float\n",
    "from scipy.ndimage import binary_fill_holes\n",
    "from skimage.measure import label, regionprops\n",
    "from skimage.segmentation import find_boundaries\n",
    "import tifffile\n",
    "\n",
    "def clean_and_analyze_images(\n",
    "    image_set_paths,\n",
    "    erosion_intensity=1, \n",
    "    sigma_est=False, \n",
    "    denoising_strength = 0.8,\n",
    "    denoising_patch_size=11,\n",
    "    denoising_patch_distance=12, \n",
    "    denoising_fast_mode=True, \n",
    "    nucleus_mask_threshold=0.05, \n",
    "    nucleus_area_threshold=500,\n",
    "    desired_donut_width_um=4.5, \n",
    "    desired_outer_donut_width_um=1.5, \n",
    "    strict_overlapping_filter=False,\n",
    "    lenient_overlapping_filter=True, \n",
    "    lower_transfection_intensity_threshold=0.05,\n",
    "    upper_transfection_intensity_threshold=0.2,\n",
    "    p115_area_intensity_threshold=0.05\n",
    "):\n",
    "    nuclei_img = imread('cell-data/test-image-set-2/parent_mCHC17_GFP_4_z3_ch00.tif') # TEMPORARY\n",
    "    transfection_img = imread('cell-data/test-image-set-2/parent_mCHC17_GFP_4_z2_ch01.tif') # TEMPORARY\n",
    "    p115_img = imread('cell-data/test-image-set-2/parent_mCHC17_GFP_4_z2_ch02.tif') # TEMPORARY\n",
    "\n",
    "    viewer = napari.Viewer()\n",
    "    viewer.add_image(nuclei_img, name='nuclei')\n",
    "    viewer.theme = 'light'\n",
    "\n",
    "    eroded = erosion(nuclei_img, disk(1))\n",
    "    viewer.add_image(eroded, name='eroded')\n",
    "\n",
    "    img_float = img_as_float(eroded)\n",
    "    sigma_est = np.mean(estimate_sigma(img_float, channel_axis=None))\n",
    "    denoised = denoise_nl_means(\n",
    "        img_float,\n",
    "        h=0.8 * sigma_est, \n",
    "        patch_size=11, \n",
    "        patch_distance=12,\n",
    "        fast_mode=True \n",
    "    )\n",
    "    viewer.add_image(denoised, name='denoised')\n",
    "\n",
    "    initial_nuclei_mask = denoised > nucleus_mask_threshold\n",
    "    viewer.add_labels(initial_nuclei_mask.astype(int), name='initial_nuclei_mask')\n",
    "\n",
    "    filled_mask = binary_fill_holes(initial_nuclei_mask)\n",
    "    filled_mask = filled_mask.astype(np.uint8)\n",
    "    viewer.add_labels(filled_mask, name='hole_filled_mask')\n",
    "\n",
    "    labeled_mask = label(filled_mask)\n",
    "    viewer.add_labels(labeled_mask, name='labeled_nuclei_mask')\n",
    "\n",
    "    image_height, image_width = labeled_mask.shape\n",
    "    cleaned_nuclei_mask = np.zeros_like(labeled_mask)\n",
    "    for region in regionprops(labeled_mask):\n",
    "        min_row, min_column, max_row, max_column = region.bbox\n",
    "        touches_edge = (min_row == 0 or min_column == 0 or max_row == image_height or max_column == image_width)\n",
    "        if not touches_edge and region.area >= nucleus_area_threshold:\n",
    "            cleaned_nuclei_mask[labeled_mask == region.label] = region.label \n",
    "    viewer.add_labels(cleaned_nuclei_mask, name='cleaned_nuclei_mask')\n",
    "\n",
    "    with tifffile.TiffFile('cell-data/test-image-set/22KO_mCHC17_GFP_3_z3_ch00.tif') as tif: # TEMPORARY\n",
    "        page = tif.pages[0]\n",
    "        tags = page.tags\n",
    "        x_res = tags['XResolution'].value\n",
    "        y_res = tags['YResolution'].value\n",
    "        res_unit = tags['ResolutionUnit'].value\n",
    "        if res_unit == 3:\n",
    "            x_ppcm = x_res[0] / x_res[1]\n",
    "            y_ppcm = y_res[0] / y_res[1]\n",
    "            x_ppum = x_ppcm / 10000\n",
    "            y_ppum = y_ppcm / 10000\n",
    "            print('Compare these values to the metadata in Fiji ImageJ:')\n",
    "            print(f'X pixels/µm: {x_ppum:.4f}')\n",
    "            print(f'Y pixels/µm: {y_ppum:.4f}')\n",
    "        else:\n",
    "            print('Unsupported resolution unit:', res_unit)\n",
    "    microns_per_pixel = (1 / x_ppum + 1 / y_ppum) / 2\n",
    "    n_pixels = int(desired_donut_width_um / microns_per_pixel)\n",
    "    outer_mask = dilation(cleaned_nuclei_mask, disk(n_pixels))\n",
    "    donut_mask = outer_mask - cleaned_nuclei_mask\n",
    "    donut_mask[donut_mask < 0] = 0\n",
    "    donut_mask = donut_mask.astype(np.uint8)\n",
    "    viewer.add_labels(donut_mask, name='donut')\n",
    "\n",
    "    n_pixels = int(desired_outer_donut_width_um / microns_per_pixel)\n",
    "    outer_donut_mask = np.zeros_like(cleaned_nuclei_mask, dtype=np.uint16)\n",
    "    regions = regionprops(cleaned_nuclei_mask)\n",
    "    for region in regions:\n",
    "        nucleus_mask = (cleaned_nuclei_mask == region.label)\n",
    "        first_donut_mask = (donut_mask == region.label)\n",
    "        excluded_area = nucleus_mask | first_donut_mask\n",
    "        outer_mask = dilation(excluded_area, disk(n_pixels))\n",
    "        outer_donut = outer_mask & (~excluded_area)\n",
    "        outer_donut_mask[outer_donut] = region.label\n",
    "    viewer.add_labels(outer_donut_mask, name='outer_donut')\n",
    "\n",
    "    if (strict_overlapping_filter):\n",
    "        labels = np.unique(cleaned_nuclei_mask)\n",
    "        labels = labels[labels != 0]\n",
    "        regions = []\n",
    "        for label_id in labels:\n",
    "            combined_mask = (\n",
    "                (cleaned_nuclei_mask == label_id) |\n",
    "                (donut_mask == label_id) |\n",
    "                (outer_donut_mask == label_id)\n",
    "            )\n",
    "            regions.append({\n",
    "                'label': label_id,\n",
    "                'mask': combined_mask\n",
    "            })\n",
    "        labels_to_remove = set()\n",
    "        for i, region_a in enumerate(regions):\n",
    "            dilated_a = dilation(region_a['mask'], square(3))\n",
    "            for j, region_b in enumerate(regions):\n",
    "                if i >= j:\n",
    "                    continue \n",
    "                if np.any(dilated_a & region_b['mask']):\n",
    "                    labels_to_remove.add(region_a['label'])\n",
    "                    labels_to_remove.add(region_b['label'])\n",
    "        def remove_labels(mask, labels_to_remove):\n",
    "            output = np.copy(mask)\n",
    "            output[np.isin(mask, list(labels_to_remove))] = 0\n",
    "            return output.astype(np.int32)\n",
    "        cleaned_filtered = remove_labels(cleaned_nuclei_mask, labels_to_remove)\n",
    "        donut_filtered = remove_labels(donut_mask, labels_to_remove)\n",
    "        outer_donut_filtered = remove_labels(outer_donut_mask, labels_to_remove)\n",
    "        viewer.add_labels(cleaned_filtered, name='no_overlap_nuclei')\n",
    "        viewer.add_labels(donut_filtered, name='no_overlap_donuts')\n",
    "        viewer.add_labels(outer_donut_filtered, name='no_overlap_outer_donut')\n",
    "\n",
    "    if (lenient_overlapping_filter):\n",
    "        labels = np.unique(cleaned_nuclei_mask)\n",
    "        labels = labels[labels != 0]\n",
    "        regions = []\n",
    "        for label_id in labels:\n",
    "            region = {\n",
    "                'label': label_id,\n",
    "                'nucleus': (cleaned_nuclei_mask == label_id),\n",
    "                'donut': (donut_mask == label_id),\n",
    "                'outer': (outer_donut_mask == label_id)\n",
    "            }\n",
    "            regions.append(region)\n",
    "        labels_to_remove = set()\n",
    "        for i, region_a in enumerate(regions):\n",
    "            inner_donut_a = region_a['donut']\n",
    "            outer_donut_a = region_a['outer']\n",
    "            for j, region_b in enumerate(regions):\n",
    "                if i == j:\n",
    "                    continue\n",
    "                inner_donut_b = region_b['donut']\n",
    "                outer_donut_b = region_b['outer']\n",
    "                if np.any(inner_donut_a & outer_donut_b):\n",
    "                    labels_to_remove.add(region_a['label'])\n",
    "                    labels_to_remove.add(region_b['label'])\n",
    "                elif np.any(outer_donut_a & inner_donut_b):\n",
    "                    labels_to_remove.add(region_a['label'])\n",
    "                    labels_to_remove.add(region_b['label'])\n",
    "        def remove_labels(mask, labels_to_remove):\n",
    "            output = np.copy(mask)\n",
    "            output[np.isin(mask, list(labels_to_remove))] = 0\n",
    "            return output.astype(np.int32)\n",
    "        cleaned_filtered = remove_labels(cleaned_nuclei_mask, labels_to_remove)\n",
    "        donut_filtered = remove_labels(donut_mask, labels_to_remove)\n",
    "        outer_donut_filtered = remove_labels(outer_donut_mask, labels_to_remove)\n",
    "        viewer.add_labels(cleaned_filtered, name='filtered_nuclei')\n",
    "        viewer.add_labels(donut_filtered, name='filtered_donuts')\n",
    "        viewer.add_labels(outer_donut_filtered, name='filtered_outer_donuts')        \n",
    "\n",
    "    if not (strict_overlapping_filter or lenient_overlapping_filter):\n",
    "        raise ValueError('Error: Please set one of the overlap filtering methods to True.')\n",
    "\n",
    "    image_height, image_width = cleaned_filtered.shape\n",
    "    pre_tf_nuclei = np.zeros_like(cleaned_filtered)\n",
    "    pre_tf_donuts = np.zeros_like(donut_filtered)\n",
    "    pre_tf_outer_donuts = np.zeros_like(outer_donut_filtered)\n",
    "    for region in regions:\n",
    "        label_id = region['label']\n",
    "        combined = (\n",
    "            (cleaned_filtered == label_id) |\n",
    "            (donut_filtered == label_id) |\n",
    "            (outer_donut_filtered == label_id)\n",
    "        )\n",
    "        if combined.shape != (image_height, image_width):\n",
    "            raise ValueError(f'Error: Combined mask for label {label_id} has incorrect shape {combined.shape}, expected ({image_height}, {image_width})')\n",
    "        coords = np.argwhere(combined)\n",
    "        if coords.size == 0:\n",
    "            continue\n",
    "        min_row, min_col = coords.min(axis=0)\n",
    "        max_row, max_col = coords.max(axis=0)\n",
    "        touches_edge = (min_row == 0 or min_col == 0 or max_row == image_height or max_col == image_width)\n",
    "        if not touches_edge:\n",
    "            pre_tf_nuclei[cleaned_filtered == label_id] = label_id\n",
    "            pre_tf_donuts[donut_filtered == label_id] = label_id\n",
    "            pre_tf_outer_donuts[outer_donut_filtered == label_id] = label_id\n",
    "    viewer.add_labels(pre_tf_nuclei, name='pre_transfection_nuclei')\n",
    "    viewer.add_labels(pre_tf_donuts, name='pre_transfection_donuts')\n",
    "    viewer.add_labels(pre_tf_outer_donuts, name='pre_transfection_outer_donuts')\n",
    "\n",
    "    viewer.add_image(\n",
    "        transfection_img,\n",
    "        name='transfection',\n",
    "        colormap='green',\n",
    "        contrast_limits=[0, 255],\n",
    "        blending='additive',     \n",
    "        opacity=0.7\n",
    "    )\n",
    "    transfection_img_norm = (transfection_img - transfection_img.min()) / (transfection_img.max() - transfection_img.min())\n",
    "    labels = np.unique(pre_tf_nuclei)\n",
    "    labels = labels[labels != 0]\n",
    "    final_nuclei = np.zeros_like(pre_tf_nuclei)\n",
    "    final_donuts = np.zeros_like(pre_tf_donuts)\n",
    "    final_outer_donuts = np.zeros_like(pre_tf_outer_donuts)\n",
    "    for label_id in labels:\n",
    "        nucleus_mask = (pre_tf_nuclei == label_id)\n",
    "        donut_mask = (pre_tf_donuts == label_id)\n",
    "        outer_mask = (pre_tf_outer_donuts == label_id)\n",
    "        mean_intensity = transfection_img_norm[donut_mask].mean()\n",
    "        if (mean_intensity >= lower_transfection_intensity_threshold and mean_intensity <= upper_transfection_intensity_threshold):\n",
    "            final_nuclei[nucleus_mask] = label_id\n",
    "            final_donuts[donut_mask] = label_id\n",
    "            final_outer_donuts[outer_mask] = label_id\n",
    "    viewer.add_labels(final_nuclei, name='final_nuclei')\n",
    "    viewer.add_labels(final_donuts, name='final_donuts')\n",
    "    viewer.add_labels(final_outer_donuts, name='final_outer_donuts')\n",
    "\n",
    "    viewer.add_image(\n",
    "        p115_img,\n",
    "        name='p115',\n",
    "        colormap='magma',         \n",
    "        contrast_limits=[0, 255],\n",
    "        blending='additive',     \n",
    "        opacity=0.7\n",
    "    )\n",
    "    p115_img_norm = (p115_img - p115_img.min()) / (p115_img.max() - p115_img.min())\n",
    "    regions_stats = {}\n",
    "    layer = viewer.layers['final_nuclei']\n",
    "    labels = np.unique(layer.data)\n",
    "    labels = labels[labels != 0]\n",
    "    label_colors = {label: layer.get_color(label) for label in labels}\n",
    "    for label_id in labels:\n",
    "        color = label_colors[label_id]\n",
    "        print(f'Label {label_id}: {color}')\n",
    "        nucleus_mask = (final_nuclei == label_id)\n",
    "        donut_mask = (final_donuts == label_id)\n",
    "        outer_donut_mask = (final_outer_donuts == label_id)\n",
    "        regional_mask = nucleus_mask | donut_mask | outer_donut_mask\n",
    "        region_info = {\n",
    "            'label_color': label_colors[label_id],\n",
    "            'nucleus_mask_stats': [],\n",
    "            'donut_mask_stats': [],\n",
    "            'outer_donut_mask_stats': [],\n",
    "            'regional_mask_stats': [],\n",
    "        }\n",
    "        for mask, mask_name in zip([nucleus_mask, donut_mask, outer_donut_mask, regional_mask], \n",
    "                                   ['nucleus_mask', 'donut_mask', 'outer_donut_mask', 'regional_mask']):\n",
    "            key = f'{mask_name}_stats'\n",
    "            p115_overlap_pixels = p115_img_norm[(mask) & (p115_img_norm > 0)]\n",
    "            region_info[key].append(p115_overlap_pixels.mean() if p115_overlap_pixels.size > 0 else 0)\n",
    "            region_info[key].append(p115_overlap_pixels.max() if p115_overlap_pixels.size > 0 else 0)\n",
    "            region_info[key].append((p115_overlap_pixels > p115_area_intensity_threshold).sum())\n",
    "        regions_stats[label_id] = region_info\n",
    "\n",
    "    regions_df = pd.DataFrame(regions_stats)\n",
    "\n",
    "    for mask_name in ['eroded', \n",
    "                      'denoised', \n",
    "                      'initial_nuclei_mask', \n",
    "                      'hole_filled_mask', \n",
    "                      'labeled_nuclei_mask', \n",
    "                      'cleaned_nuclei_mask', \n",
    "                      'donut', \n",
    "                      'outer_donut', \n",
    "                      'filtered_nuclei', \n",
    "                      'filtered_donuts', \n",
    "                      'filtered_outer_donuts', \n",
    "                      'pre_transfection_nuclei', \n",
    "                      'pre_transfection_donuts', \n",
    "                      'pre_transfection_outer_donuts']:\n",
    "        viewer.layers[mask_name].visible = False\n",
    "    print('Image set cleaning and analysis completed.')"
   ]
  },
  {
   "cell_type": "code",
   "execution_count": 14,
   "id": "38fa1d52-6731-4089-9f67-4d4abf6c7d56",
   "metadata": {},
   "outputs": [
    {
     "name": "stdout",
     "output_type": "stream",
     "text": [
      "Compare these values to the metadata in Fiji ImageJ:\n",
      "X pixels/µm: 5.5440\n",
      "Y pixels/µm: 5.5440\n",
      "Label 7: [0.56078434 0.6784314  0.69803923 1.        ]\n",
      "Label 8: [0.5254902 0.5647059 0.6039216 1.       ]\n",
      "Label 10: [0.96862745 0.26666668 0.23137255 1.        ]\n",
      "Label 30: [0.3764706  0.47843137 0.20392157 1.        ]\n",
      "Label 33: [0.61960787 0.5294118  0.43529412 1.        ]\n",
      "Label 45: [0.6862745  0.29411766 0.9490196  1.        ]\n",
      "Image set cleaning and analysis completed.\n"
     ]
    }
   ],
   "source": [
    "clean_and_analyze_images(\n",
    "    image_set_paths,\n",
    "    erosion_intensity=1, \n",
    "    sigma_est=False, \n",
    "    denoising_strength = 0.8,\n",
    "    denoising_patch_size=11,\n",
    "    denoising_patch_distance=12, \n",
    "    denoising_fast_mode=True, \n",
    "    nucleus_mask_threshold=0.05, \n",
    "    nucleus_area_threshold=500,\n",
    "    desired_donut_width_um=4.5, \n",
    "    desired_outer_donut_width_um=1.5, \n",
    "    strict_overlapping_filter=False,\n",
    "    lenient_overlapping_filter=True, \n",
    "    lower_transfection_intensity_threshold=0.05,\n",
    "    upper_transfection_intensity_threshold=0.2,\n",
    "    p115_area_intensity_threshold=0.05\n",
    ")"
   ]
  }
 ],
 "metadata": {
  "kernelspec": {
   "display_name": "Python 3 (ipykernel)",
   "language": "python",
   "name": "python3"
  },
  "language_info": {
   "codemirror_mode": {
    "name": "ipython",
    "version": 3
   },
   "file_extension": ".py",
   "mimetype": "text/x-python",
   "name": "python",
   "nbconvert_exporter": "python",
   "pygments_lexer": "ipython3",
   "version": "3.12.10"
  }
 },
 "nbformat": 4,
 "nbformat_minor": 5
}
