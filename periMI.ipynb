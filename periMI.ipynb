{
 "cells": [
  {
   "cell_type": "markdown",
   "id": "cacc5768-9da6-428c-8320-04abb6c7d3f3",
   "metadata": {},
   "source": [
    "# Napari Visualization Pipeline"
   ]
  },
  {
   "cell_type": "code",
   "execution_count": 172,
   "id": "5b57a693-1430-4abd-90b6-0c1be43622f7",
   "metadata": {},
   "outputs": [],
   "source": [
    "import napari\n",
    "import numpy as np\n",
    "from skimage import morphology, restoration, filters, measure\n",
    "from tifffile import imread\n",
    "\n",
    "#img = imread('cell-data/parent_control_z3_ch00.tif') --> This was an initial testing image\n",
    "\n",
    "# Current testing images\n",
    "nuclei_img = imread('cell-data/test-image-set/22KO_mCHC17_GFP_3_z3_ch00.tif')\n",
    "transfection_img = imread('cell-data/test-image-set/22KO_mCHC17_GFP_3_z3_ch01.tif')\n",
    "p115_img = imread('cell-data/test-image-set/22KO_mCHC17_GFP_3_z3_ch02.tif')\n",
    "\n",
    "viewer = napari.Viewer()\n",
    "viewer.add_image(nuclei_img, name='nuclei')\n",
    "viewer.theme = 'light'"
   ]
  },
  {
   "cell_type": "markdown",
   "id": "043c4d73-9c47-4603-8d23-a4534e9e9e1f",
   "metadata": {},
   "source": [
    "### Erosion"
   ]
  },
  {
   "cell_type": "code",
   "execution_count": 173,
   "id": "a6cdca46-902b-41ff-be77-d5fca1429e7e",
   "metadata": {},
   "outputs": [
    {
     "data": {
      "text/plain": [
       "<Image layer 'eroded' at 0x374115310>"
      ]
     },
     "execution_count": 173,
     "metadata": {},
     "output_type": "execute_result"
    }
   ],
   "source": [
    "from skimage.morphology import erosion, disk\n",
    "\n",
    "eroded = erosion(img, disk(1)) # Change to 2 or 3 for more intense erosion\n",
    "\n",
    "viewer.add_image(eroded, name='eroded')"
   ]
  },
  {
   "cell_type": "markdown",
   "id": "95eb1c1a-a3c5-4c02-8913-fc02f8a9b1ee",
   "metadata": {},
   "source": [
    "### Estimate noise and denoise via non-local means"
   ]
  },
  {
   "cell_type": "code",
   "execution_count": 174,
   "id": "dded80b3-8050-4dd0-869e-7026b1dcb7d6",
   "metadata": {},
   "outputs": [
    {
     "data": {
      "text/plain": [
       "<Image layer 'denoised' at 0x3719421e0>"
      ]
     },
     "execution_count": 174,
     "metadata": {},
     "output_type": "execute_result"
    }
   ],
   "source": [
    "from skimage.restoration import denoise_nl_means, estimate_sigma\n",
    "from skimage.util import img_as_float\n",
    "\n",
    "img_float = img_as_float(eroded)\n",
    "\n",
    "sigma_est = np.mean(estimate_sigma(img_float, channel_axis=None)) # Estimated noise standard deviation. Lower SD means lower estimated noise.\n",
    "\n",
    "denoised = denoise_nl_means(\n",
    "    img_float,\n",
    "    h=0.8 * sigma_est, # h is filter strength. This line sets filter strength to 80% of estimated noise level, but tweak this number if necessary.\n",
    "    patch_size=5, # Larger value = captures more context; better denoising but loses fine detail (probably doesn't matter for this use).\n",
    "    patch_distance=6, # Larger value = searches wider area, so better denoising but slower processing.\n",
    "    fast_mode=True # Make False for more accurate denoising (but it'll be a bit slower).\n",
    ")\n",
    "\n",
    "viewer.add_image(denoised, name='denoised')"
   ]
  },
  {
   "cell_type": "markdown",
   "id": "081b3483-cfe4-415b-a39b-045debe10eb6",
   "metadata": {},
   "source": [
    "### Create nucleus mask"
   ]
  },
  {
   "cell_type": "code",
   "execution_count": 175,
   "id": "1b9d73dc-aa1d-43ae-ab59-475f9864e6cb",
   "metadata": {},
   "outputs": [
    {
     "data": {
      "text/plain": [
       "<Labels layer 'thresholded' at 0x31f0fb4a0>"
      ]
     },
     "execution_count": 175,
     "metadata": {},
     "output_type": "execute_result"
    }
   ],
   "source": [
    "threshold = 0.1 # Play around with the threshold to find the optimal value.\n",
    "thresholded = denoised > threshold # For each pixel --> if it's brighter than the threshold value, count it as foreground (part of a nucleus).\n",
    "# The line above creates a boolean array.\n",
    "\n",
    "viewer.add_labels(thresholded.astype(int), name='thresholded') # This turns the boolean array into binaries."
   ]
  },
  {
   "cell_type": "markdown",
   "id": "8b688059-3e2b-42bf-83ab-326bf07d8f72",
   "metadata": {},
   "source": [
    "### Fill any gaps in the mask regions"
   ]
  },
  {
   "cell_type": "code",
   "execution_count": 176,
   "id": "8cfa7f16-23f8-4f0a-8717-220d15e2f9be",
   "metadata": {},
   "outputs": [
    {
     "data": {
      "text/plain": [
       "<Labels layer 'hole-filled-mask' at 0x36ed87ce0>"
      ]
     },
     "execution_count": 176,
     "metadata": {},
     "output_type": "execute_result"
    }
   ],
   "source": [
    "from scipy.ndimage import binary_fill_holes\n",
    "import numpy as np\n",
    "\n",
    "# Assuming 'mask' is a binary numpy array where nuclei are True (1) and background is False (0)\n",
    "filled_mask = binary_fill_holes(thresholded)\n",
    "\n",
    "# Convert back to int if needed\n",
    "filled_mask = filled_mask.astype(np.uint8)\n",
    "\n",
    "viewer.add_labels(filled_mask, name='hole-filled-mask')"
   ]
  },
  {
   "cell_type": "markdown",
   "id": "cd4668df-d460-4357-b326-841172c355a4",
   "metadata": {},
   "source": [
    "### Separate mask into distinct regions with integer labels"
   ]
  },
  {
   "cell_type": "code",
   "execution_count": 177,
   "id": "f5bc475f-06ed-4a88-ac62-b21337a97b30",
   "metadata": {},
   "outputs": [
    {
     "data": {
      "text/plain": [
       "<Labels layer 'nuclei_mask' at 0x371c8ee10>"
      ]
     },
     "execution_count": 177,
     "metadata": {},
     "output_type": "execute_result"
    }
   ],
   "source": [
    "from skimage.measure import label\n",
    "\n",
    "labeled_mask = label(filled_mask) # Label connected regions of the mask\n",
    "\n",
    "viewer.add_labels(labeled_mask, name='nuclei_mask')"
   ]
  },
  {
   "cell_type": "markdown",
   "id": "4c5cbce2-725d-4a75-bfae-3dad0563eccf",
   "metadata": {},
   "source": [
    "### Clean mask by removing nucleus regions that are cut off by the image and by removing isolated pixels that remain after erosion and denoising"
   ]
  },
  {
   "cell_type": "code",
   "execution_count": 178,
   "id": "95aa8466-5a94-4cd2-b891-d1f603fe90ab",
   "metadata": {},
   "outputs": [
    {
     "data": {
      "text/plain": [
       "<Labels layer 'cleaned_mask' at 0x36be4fe60>"
      ]
     },
     "execution_count": 178,
     "metadata": {},
     "output_type": "execute_result"
    }
   ],
   "source": [
    "from skimage.measure import regionprops\n",
    "import numpy as np\n",
    "\n",
    "image_height, image_width = labeled_mask.shape\n",
    "cleaned_mask = np.zeros_like(labeled_mask)\n",
    "\n",
    "for region in regionprops(labeled_mask):\n",
    "    min_row, min_column, max_row, max_column = region.bbox\n",
    "\n",
    "    # This checks for labeled regions at the edges of the image\n",
    "    touches_edge = (min_row == 0 or min_column == 0 or max_row == image_height or max_column == image_width)\n",
    "    \n",
    "    if not touches_edge and region.area >= 500:\n",
    "        cleaned_mask[labeled_mask == region.label] = region.label \n",
    "        # This line sets all pixels in cleaned_mask at positions where the boolean mask is True to the integer value region.label.\n",
    "        # Each specific integer value is a specific label/color.\n",
    "        \n",
    "viewer.add_labels(cleaned_mask, name='cleaned_mask')"
   ]
  },
  {
   "cell_type": "markdown",
   "id": "da032175-3e20-4727-99de-9f1ad03b693c",
   "metadata": {},
   "source": [
    "### Determine the image's microns per pixel ratio and create the first donut mask"
   ]
  },
  {
   "cell_type": "code",
   "execution_count": 179,
   "id": "d6185e55-d7ff-4c00-b634-aa245232c1e8",
   "metadata": {},
   "outputs": [
    {
     "name": "stdout",
     "output_type": "stream",
     "text": [
      "Compare these values to the metadata in Fiji ImageJ:\n",
      "X pixels/µm: 5.5081\n",
      "Y pixels/µm: 5.5081\n"
     ]
    },
    {
     "data": {
      "text/plain": [
       "<Labels layer 'donut' at 0x36e095820>"
      ]
     },
     "execution_count": 179,
     "metadata": {},
     "output_type": "execute_result"
    }
   ],
   "source": [
    "from skimage.morphology import dilation, disk\n",
    "from skimage.segmentation import find_boundaries\n",
    "import tifffile\n",
    "\n",
    "with tifffile.TiffFile('cell-data/parent_control_z3_ch00.tif') as tif:\n",
    "    page = tif.pages[0]\n",
    "    tags = page.tags\n",
    "\n",
    "    x_res = tags['XResolution'].value  # (num, denom)\n",
    "    y_res = tags['YResolution'].value\n",
    "    res_unit = tags['ResolutionUnit'].value  # 3 = centimeters\n",
    "\n",
    "    # Convert to pixels per micrometer\n",
    "    if res_unit == 3:  # Centimeters\n",
    "        x_ppcm = x_res[0] / x_res[1]\n",
    "        y_ppcm = y_res[0] / y_res[1]\n",
    "        x_ppum = x_ppcm / 10000  # cm → µm\n",
    "        y_ppum = y_ppcm / 10000\n",
    "        print('Compare these values to the metadata in Fiji ImageJ:')\n",
    "        print(f'X pixels/µm: {x_ppum:.4f}')\n",
    "        print(f'Y pixels/µm: {y_ppum:.4f}')\n",
    "    else:\n",
    "        print('Unsupported resolution unit:', res_unit)\n",
    "\n",
    "microns_per_pixel = (1 / x_ppum + 1 / y_ppum) / 2\n",
    "desired_donut_width_um = 2\n",
    "n_pixels = int(desired_donut_width_um / microns_per_pixel)\n",
    "\n",
    "outer_mask = dilation(cleaned_mask, disk(n_pixels))\n",
    "\n",
    "donut_mask = outer_mask - cleaned_mask\n",
    "donut_mask[donut_mask < 0] = 0  # Just in case\n",
    "\n",
    "donut_mask = donut_mask.astype(np.uint8)\n",
    "\n",
    "viewer.add_labels(donut_mask, name='donut')"
   ]
  },
  {
   "cell_type": "markdown",
   "id": "26ab5209-1ab1-434a-a56e-5ef0bc8652fe",
   "metadata": {},
   "source": [
    "### Create the outer donut mask"
   ]
  },
  {
   "cell_type": "code",
   "execution_count": 180,
   "id": "5d41cf05-7c18-407d-85aa-a45903819d14",
   "metadata": {},
   "outputs": [
    {
     "data": {
      "text/plain": [
       "<Labels layer 'outer_donut' at 0x373f179e0>"
      ]
     },
     "execution_count": 180,
     "metadata": {},
     "output_type": "execute_result"
    }
   ],
   "source": [
    "desired_outer_width_um = 3\n",
    "n_pixels = int(desired_outer_width_um / microns_per_pixel)\n",
    "\n",
    "outer_donut_mask = np.zeros_like(cleaned_mask, dtype=np.uint16)\n",
    "\n",
    "regions = regionprops(cleaned_mask)\n",
    "\n",
    "for region in regions:\n",
    "    nucleus_mask = (cleaned_mask == region.label)\n",
    "    first_donut_mask = (donut_mask == region.label)\n",
    "    excluded_area = nucleus_mask | first_donut_mask\n",
    "    outer_mask = dilation(excluded_area, disk(n_pixels))\n",
    "    outer_donut = outer_mask & (~excluded_area)\n",
    "    outer_donut_mask[outer_donut] = region.label\n",
    "\n",
    "viewer.add_labels(outer_donut_mask, name='outer_donut')"
   ]
  },
  {
   "cell_type": "markdown",
   "id": "6096b664-de8b-4a50-9613-dbd80cef9363",
   "metadata": {},
   "source": [
    "### Delete all overlapping regions --> REVIEW THIS CODE ENTIRELY TO FULLY UNDERSTAND IT"
   ]
  },
  {
   "cell_type": "code",
   "execution_count": 187,
   "id": "0156c248-0700-46c4-ab5d-1d919fa6e81e",
   "metadata": {},
   "outputs": [
    {
     "name": "stderr",
     "output_type": "stream",
     "text": [
      "/var/folders/zc/r5_5f1x56sq9gtmyssh_0g300000gn/T/ipykernel_36213/207430229.py:24: FutureWarning: `square` is deprecated since version 0.25 and will be removed in version 0.27. Use `skimage.morphology.footprint_rectangle` instead.\n",
      "  dilated_a = dilation(region_a['mask'], square(3))  # 8-connected dilation\n"
     ]
    },
    {
     "data": {
      "text/plain": [
       "<Labels layer 'no_overlap_mask' at 0x37144eab0>"
      ]
     },
     "execution_count": 187,
     "metadata": {},
     "output_type": "execute_result"
    }
   ],
   "source": [
    "from skimage.morphology import square\n",
    "\n",
    "# Step 1: Get all unique labels\n",
    "labels = np.unique(cleaned_mask)\n",
    "labels = labels[labels != 0]\n",
    "\n",
    "# Step 2: Build combined masks per region\n",
    "regions = []\n",
    "for label_id in labels:\n",
    "    combined_mask = (\n",
    "        (cleaned_mask == label_id) |\n",
    "        (donut_mask == label_id) |\n",
    "        (outer_donut_mask == label_id)\n",
    "    )\n",
    "    regions.append({\n",
    "        'label': label_id,\n",
    "        'mask': combined_mask\n",
    "    })\n",
    "\n",
    "# Step 3: Find touching regions using dilation\n",
    "labels_to_remove = set()\n",
    "\n",
    "for i, region_a in enumerate(regions):\n",
    "    dilated_a = dilation(region_a['mask'], square(3))  # 8-connected dilation\n",
    "\n",
    "    for j, region_b in enumerate(regions):\n",
    "        if i >= j:\n",
    "            continue  # avoid duplicate checks\n",
    "\n",
    "        if np.any(dilated_a & region_b['mask']):\n",
    "            labels_to_remove.add(region_a['label'])\n",
    "            labels_to_remove.add(region_b['label'])\n",
    "\n",
    "# Step 4: Remove touching labels from all masks\n",
    "def remove_labels(mask, labels_to_remove):\n",
    "    output = np.copy(mask)\n",
    "    output[np.isin(mask, list(labels_to_remove))] = 0\n",
    "    return output.astype(np.int32)\n",
    "\n",
    "cleaned_filtered = remove_labels(cleaned_mask, labels_to_remove)\n",
    "donut_filtered = remove_labels(donut_mask, labels_to_remove)\n",
    "outer_donut_filtered = remove_labels(outer_donut_mask, labels_to_remove)\n",
    "\n",
    "# Step 5: Combine into final mask\n",
    "no_overlap_mask = cleaned_filtered + donut_filtered + outer_donut_filtered\n",
    "viewer.add_labels(no_overlap_mask, name=\"no_overlap_mask\")"
   ]
  },
  {
   "cell_type": "markdown",
   "id": "d7afa02e-f419-4d6f-a44f-0a83f05c10a1",
   "metadata": {},
   "source": [
    "### Note:\n",
    "Make the alternative overlapping approach (where instead of removing any and all overlapping regions, just delete regions that overlap with inner donuts)."
   ]
  },
  {
   "cell_type": "markdown",
   "id": "8f839451-7e2e-490c-b100-51eb2b13610e",
   "metadata": {},
   "source": [
    "### Delete regions with cut-off donuts --> edit this and the cell above such that there are still 3 different layers (nucleus, inner donut, outer donut) because the next step involves looking ONLY at the inner donut."
   ]
  },
  {
   "cell_type": "code",
   "execution_count": 190,
   "id": "74bc399a-e96c-4e2b-a4a1-8ef1942a1bae",
   "metadata": {},
   "outputs": [
    {
     "data": {
      "text/plain": [
       "<Labels layer 'no_edges_no_overlaps [1]' at 0x373ffa1e0>"
      ]
     },
     "execution_count": 190,
     "metadata": {},
     "output_type": "execute_result"
    }
   ],
   "source": [
    "image_height, image_width = no_overlap_mask.shape\n",
    "no_edges_no_overlaps = np.zeros_like(no_overlap_mask)\n",
    "\n",
    "for region in regionprops(no_overlap_mask):\n",
    "    min_row, min_column, max_row, max_column = region.bbox\n",
    "\n",
    "    touches_edge = (min_row == 0 or min_column == 0 or max_row == image_height or max_column == image_width)\n",
    "    \n",
    "    if not touches_edge and region.area >= 500:\n",
    "        no_edges_no_overlaps[no_overlap_mask == region.label] = region.label \n",
    "        \n",
    "viewer.add_labels(no_edges_no_overlaps, name='no_edges_no_overlaps')"
   ]
  },
  {
   "cell_type": "markdown",
   "id": "32b4a317-e72b-47e0-86b1-b335b0c808e0",
   "metadata": {},
   "source": [
    "### Remove cells with low transfection"
   ]
  },
  {
   "cell_type": "code",
   "execution_count": 192,
   "id": "91b2e1f5-cbe6-4405-8df4-d4794c378996",
   "metadata": {},
   "outputs": [
    {
     "data": {
      "text/plain": [
       "<Image layer 'transfection' at 0x372f2eed0>"
      ]
     },
     "execution_count": 192,
     "metadata": {},
     "output_type": "execute_result"
    }
   ],
   "source": [
    "viewer.add_image(\n",
    "    transfection_img,\n",
    "    name=\"transfection\",\n",
    "    colormap=\"green\",         # or \"magma\", \"viridis\", \"cividis\", etc.\n",
    "    contrast_limits=[0, 255], # or adjust depending on intensity range\n",
    "    blending=\"additive\",      # good for overlays\n",
    "    opacity=0.7               # adjust as needed\n",
    ")"
   ]
  }
 ],
 "metadata": {
  "kernelspec": {
   "display_name": "Python 3 (ipykernel)",
   "language": "python",
   "name": "python3"
  },
  "language_info": {
   "codemirror_mode": {
    "name": "ipython",
    "version": 3
   },
   "file_extension": ".py",
   "mimetype": "text/x-python",
   "name": "python",
   "nbconvert_exporter": "python",
   "pygments_lexer": "ipython3",
   "version": "3.12.10"
  }
 },
 "nbformat": 4,
 "nbformat_minor": 5
}
